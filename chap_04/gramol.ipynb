{
 "cells": [
  {
   "cell_type": "markdown",
   "id": "79f5f32a-92b0-4ca0-8501-afd90343e0a8",
   "metadata": {},
   "source": [
    "# Graphical Models\n",
    "\n",
    "### Loading Libraries"
   ]
  },
  {
   "cell_type": "code",
   "execution_count": 1,
   "id": "27af0409-7b1b-4636-bfd7-3966a9d9782c",
   "metadata": {},
   "outputs": [],
   "source": [
    "# Numerical Computing\n",
    "import numpy as np\n",
    "\n",
    "# Data Manipulation\n",
    "import pandas as pd\n",
    "\n",
    "# IterTools\n",
    "from itertools import combinations\n",
    "\n",
    "# Statistical Models\n",
    "from scipy import stats\n",
    "import statsmodels.api as sm\n",
    "\n",
    "# Networkx\n",
    "import networkx as nx\n",
    "\n",
    "# Data Visualization\n",
    "import graphviz\n",
    "import seaborn as sns\n",
    "import matplotlib.pyplot as plt"
   ]
  },
  {
   "cell_type": "markdown",
   "id": "4cf30788-41bc-44e6-9f67-0b2ce7426d6d",
   "metadata": {},
   "source": [
    "#### Setting Color & Viz Parameters"
   ]
  },
  {
   "cell_type": "code",
   "execution_count": 2,
   "id": "10de39d9-c9d8-4b76-ab69-01f5a4b60ecf",
   "metadata": {},
   "outputs": [],
   "source": [
    "COLORS = [\n",
    "    '#069AF3',\n",
    "    '#F97306'\n",
    "]"
   ]
  },
  {
   "cell_type": "code",
   "execution_count": 3,
   "id": "1dbc4bb5-df21-4f0a-991a-17739838ff04",
   "metadata": {},
   "outputs": [],
   "source": [
    "plt.style.use('fivethirtyeight')"
   ]
  },
  {
   "cell_type": "markdown",
   "id": "3f6d725b-9795-4884-a789-799cf1fbe412",
   "metadata": {},
   "source": [
    "### Visualizations"
   ]
  },
  {
   "cell_type": "code",
   "execution_count": null,
   "id": "8e02cafe-248d-4560-8f0d-5783baf5e348",
   "metadata": {},
   "outputs": [],
   "source": []
  }
 ],
 "metadata": {
  "kernelspec": {
   "display_name": "Python 3 (ipykernel)",
   "language": "python",
   "name": "python3"
  },
  "language_info": {
   "codemirror_mode": {
    "name": "ipython",
    "version": 3
   },
   "file_extension": ".py",
   "mimetype": "text/x-python",
   "name": "python",
   "nbconvert_exporter": "python",
   "pygments_lexer": "ipython3",
   "version": "3.11.9"
  }
 },
 "nbformat": 4,
 "nbformat_minor": 5
}
