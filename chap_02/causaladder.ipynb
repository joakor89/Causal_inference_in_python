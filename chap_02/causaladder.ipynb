{
 "cells": [
  {
   "cell_type": "markdown",
   "id": "2e5471f8-bc30-484a-a460-c72962c0c433",
   "metadata": {},
   "source": [
    "# Judea Pearl: The Ladder of Causation\n",
    "\n",
    "### Loading Libraries"
   ]
  },
  {
   "cell_type": "code",
   "execution_count": 1,
   "id": "edc0d08d-79cd-4b47-8cdc-2a9651068d54",
   "metadata": {},
   "outputs": [],
   "source": [
    "# Numerical Computing\n",
    "import numpy as np\n",
    "\n",
    "# Data Manipulation\n",
    "import pandas as pd\n",
    "\n",
    "# IterTools\n",
    "from itertools import combinations\n",
    "\n",
    "# Statistical Models\n",
    "from scipy import stats\n",
    "\n",
    "# Networkx\n",
    "import networkx as nx\n",
    "\n",
    "# Data Visualization\n",
    "import seaborn as sns\n",
    "import matplotlib.pyplot as plt"
   ]
  },
  {
   "cell_type": "markdown",
   "id": "04beb58a-a102-4958-8016-21676f14f2f4",
   "metadata": {},
   "source": [
    "#### Setting Viz Parameters"
   ]
  },
  {
   "cell_type": "code",
   "execution_count": 2,
   "id": "96ef03a1-072b-446a-b59d-72fb5ca12387",
   "metadata": {},
   "outputs": [],
   "source": [
    "plt.style.use('fivethirtyeight')"
   ]
  },
  {
   "cell_type": "code",
   "execution_count": 3,
   "id": "cafc57f0-b1b5-4027-9902-ca7dea167b00",
   "metadata": {},
   "outputs": [],
   "source": [
    "COLORS = [\n",
    "    '#00B0F0',\n",
    "    '#FF0000'\n",
    "]"
   ]
  },
  {
   "cell_type": "markdown",
   "id": "bdfe5dc2-bf7d-4826-9511-b128c0bf27b8",
   "metadata": {},
   "source": [
    "### Association\n",
    "\n",
    "#### The Bookstore Example"
   ]
  },
  {
   "cell_type": "code",
   "execution_count": null,
   "id": "feefccf3-f379-4f6f-bfda-e0eb44c27f34",
   "metadata": {},
   "outputs": [],
   "source": []
  }
 ],
 "metadata": {
  "kernelspec": {
   "display_name": "Python 3 (ipykernel)",
   "language": "python",
   "name": "python3"
  },
  "language_info": {
   "codemirror_mode": {
    "name": "ipython",
    "version": 3
   },
   "file_extension": ".py",
   "mimetype": "text/x-python",
   "name": "python",
   "nbconvert_exporter": "python",
   "pygments_lexer": "ipython3",
   "version": "3.11.9"
  }
 },
 "nbformat": 4,
 "nbformat_minor": 5
}
