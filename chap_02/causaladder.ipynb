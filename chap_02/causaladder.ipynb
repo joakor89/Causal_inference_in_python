{
 "cells": [
  {
   "cell_type": "markdown",
   "id": "2e5471f8-bc30-484a-a460-c72962c0c433",
   "metadata": {},
   "source": [
    "# Judea Pearl: The Ladder of Causation\n",
    "\n",
    "### Loading Libraries"
   ]
  },
  {
   "cell_type": "code",
   "execution_count": 1,
   "id": "edc0d08d-79cd-4b47-8cdc-2a9651068d54",
   "metadata": {},
   "outputs": [],
   "source": [
    "# Numerical Computing\n",
    "import numpy as np\n",
    "\n",
    "# Data Manipulation\n",
    "import pandas as pd\n",
    "\n",
    "# IterTools\n",
    "from itertools import combinations\n",
    "\n",
    "# Statistical Models\n",
    "from scipy import stats\n",
    "\n",
    "# Networkx\n",
    "import networkx as nx\n",
    "\n",
    "# Data Visualization\n",
    "import seaborn as sns\n",
    "import matplotlib.pyplot as plt"
   ]
  },
  {
   "cell_type": "markdown",
   "id": "04beb58a-a102-4958-8016-21676f14f2f4",
   "metadata": {},
   "source": [
    "#### Setting Viz Parameters"
   ]
  },
  {
   "cell_type": "code",
   "execution_count": 2,
   "id": "96ef03a1-072b-446a-b59d-72fb5ca12387",
   "metadata": {},
   "outputs": [],
   "source": [
    "plt.style.use('fivethirtyeight')"
   ]
  },
  {
   "cell_type": "code",
   "execution_count": 3,
   "id": "cafc57f0-b1b5-4027-9902-ca7dea167b00",
   "metadata": {},
   "outputs": [],
   "source": [
    "COLORS = [\n",
    "    '#00B0F0',\n",
    "    '#FF0000'\n",
    "]"
   ]
  },
  {
   "cell_type": "markdown",
   "id": "bdfe5dc2-bf7d-4826-9511-b128c0bf27b8",
   "metadata": {},
   "source": [
    "### Association\n",
    "\n",
    "#### The Bookstore Example"
   ]
  },
  {
   "cell_type": "code",
   "execution_count": 4,
   "id": "feefccf3-f379-4f6f-bfda-e0eb44c27f34",
   "metadata": {},
   "outputs": [],
   "source": [
    "# First, we'll build a structural causal model (SCM)\n",
    "class BookSCM:\n",
    "    \n",
    "    def __init__(self, random_seed=None):\n",
    "        self.random_seed = random_seed\n",
    "        self.u_0 = stats.uniform()\n",
    "        self.u_1 = stats.norm()\n",
    "        \n",
    "    def sample(self, sample_size=100):\n",
    "        \"\"\"Samples from the SCM\"\"\"\n",
    "        if self.random_seed:\n",
    "            np.random.seed(self.random_seed)\n",
    "        \n",
    "        u_0 = self.u_0.rvs(sample_size)\n",
    "        u_1 = self.u_1.rvs(sample_size)\n",
    "        a = u_0 > .61\n",
    "        b = (a + .5 * u_1) > .2\n",
    "        \n",
    "        return a, b"
   ]
  },
  {
   "cell_type": "code",
   "execution_count": 5,
   "id": "e7718787-b1b6-4b8a-9bfd-82573d8c04de",
   "metadata": {},
   "outputs": [],
   "source": [
    "# Let's initialize our SCM\n",
    "scm = BookSCM(random_seed=45)"
   ]
  },
  {
   "cell_type": "code",
   "execution_count": 6,
   "id": "40b8203b-00cb-4454-ba97-39399dd93dcd",
   "metadata": {},
   "outputs": [],
   "source": [
    "# ...and sample from it\n",
    "buy_book_a, buy_book_b = scm.sample(100)"
   ]
  },
  {
   "cell_type": "code",
   "execution_count": 7,
   "id": "d47587c7-14af-42b9-8b8e-2a4164340d6b",
   "metadata": {},
   "outputs": [
    {
     "data": {
      "text/plain": [
       "((100,), (100,))"
      ]
     },
     "execution_count": 7,
     "metadata": {},
     "output_type": "execute_result"
    }
   ],
   "source": [
    "# Sanity check\n",
    "buy_book_a.shape, buy_book_b.shape"
   ]
  },
  {
   "cell_type": "code",
   "execution_count": 8,
   "id": "4b45b0be-ae5c-484e-9237-a299f21e0fbf",
   "metadata": {},
   "outputs": [
    {
     "name": "stdout",
     "output_type": "stream",
     "text": [
      "Probability of buying book A: 0.390\n",
      "Probability of buying book B: 0.580\n",
      "Probability of buying book A given B: 0.638\n",
      "Probability of buying book B given A: 0.949\n"
     ]
    }
   ],
   "source": [
    "# Let's compute probabilities\n",
    "proba_book_a = buy_book_a.sum() / buy_book_a.shape[0]\n",
    "proba_book_b = buy_book_b.sum() / buy_book_b.shape[0]\n",
    "\n",
    "print(f'Probability of buying book A: {proba_book_a:0.3f}')\n",
    "print(f'Probability of buying book B: {proba_book_b:0.3f}')\n",
    "\n",
    "# ...and conditional probailities\n",
    "proba_book_a_given_book_b = np.where(buy_book_b, buy_book_a, 0).sum() / buy_book_b.sum()\n",
    "proba_book_b_given_book_a = np.where(buy_book_a, buy_book_b, 0).sum() / buy_book_a.sum()\n",
    "\n",
    "print(f'Probability of buying book A given B: {proba_book_a_given_book_b:0.3f}')\n",
    "print(f'Probability of buying book B given A: {proba_book_b_given_book_a:0.3f}')"
   ]
  },
  {
   "cell_type": "markdown",
   "id": "48c36c69-1fdd-4661-8a8f-75dd98d0e273",
   "metadata": {},
   "source": [
    "### Intervention"
   ]
  },
  {
   "cell_type": "code",
   "execution_count": 9,
   "id": "bdeef3b4-ce6b-40f4-9f20-2c9eafaa47da",
   "metadata": {},
   "outputs": [
    {
     "name": "stdout",
     "output_type": "stream",
     "text": [
      "Mean of B before any intervention: -0.620\n",
      "Variance of B before any intervention: 22.667\n",
      "Correlation between A and B:\n",
      "r = 0.978; p = 0.000\n",
      "\n",
      "Mean of B after the intervention on A: 7.575\n",
      "Variance of B after the intervention on A: 1.003\n",
      "\n",
      "Mean of B after the intervention on B: 0.186\n",
      "Variance of B after the intervention on B: 0.995\n",
      "Correlation between A and B after intervening on B:\n",
      "r = -0.023; p = 0.821\n",
      "\n"
     ]
    }
   ],
   "source": [
    "SAMPLE_SIZE = 100\n",
    "\n",
    "np.random.seed(45)\n",
    "\n",
    "u_0 = np.random.randn(SAMPLE_SIZE)\n",
    "u_1 = np.random.randn(SAMPLE_SIZE)\n",
    "a = u_0\n",
    "b = 5 * a + u_1\n",
    "\n",
    "r, p = stats.pearsonr(a, b)\n",
    "\n",
    "print(f'Mean of B before any intervention: {b.mean():.3f}')\n",
    "print(f'Variance of B before any intervention: {b.var():.3f}')\n",
    "print(f'Correlation between A and B:\\nr = {r:.3f}; p = {p:.3f}\\n')\n",
    "\n",
    "a = np.array([1.5] * SAMPLE_SIZE)\n",
    "b = 5 * a + u_1\n",
    "\n",
    "print(f'Mean of B after the intervention on A: {b.mean():.3f}')\n",
    "print(f'Variance of B after the intervention on A: {b.var():.3f}\\n')\n",
    "\n",
    "a = u_0\n",
    "b = np.random.randn(SAMPLE_SIZE)\n",
    "\n",
    "r, p = stats.pearsonr(a, b)\n",
    "\n",
    "print(f'Mean of B after the intervention on B: {b.mean():.3f}')\n",
    "print(f'Variance of B after the intervention on B: {b.var():.3f}')\n",
    "print(f'Correlation between A and B after intervening on B:\\nr = {r:.3f}; p = {p:.3f}\\n')"
   ]
  },
  {
   "cell_type": "code",
   "execution_count": null,
   "id": "35c86b8f-6ae5-4855-946b-e30cb49dbdb6",
   "metadata": {},
   "outputs": [],
   "source": []
  },
  {
   "cell_type": "code",
   "execution_count": null,
   "id": "16fbd289-0147-4af1-aa24-60322c2a21cc",
   "metadata": {},
   "outputs": [],
   "source": []
  },
  {
   "cell_type": "code",
   "execution_count": null,
   "id": "805a8fd3-7262-46f1-befc-6f3701b70a65",
   "metadata": {},
   "outputs": [],
   "source": []
  },
  {
   "cell_type": "code",
   "execution_count": null,
   "id": "a1bb25e0-e56a-41d0-b539-201e5f0f58ee",
   "metadata": {},
   "outputs": [],
   "source": []
  },
  {
   "cell_type": "code",
   "execution_count": null,
   "id": "fcf32f80-869f-4380-a208-769ca56b15f5",
   "metadata": {},
   "outputs": [],
   "source": []
  },
  {
   "cell_type": "code",
   "execution_count": null,
   "id": "725d2eb3-f195-4863-8b0d-53088bb56de6",
   "metadata": {},
   "outputs": [],
   "source": []
  },
  {
   "cell_type": "code",
   "execution_count": null,
   "id": "12fc5ab9-cea8-46cd-bb6f-db056eab93da",
   "metadata": {},
   "outputs": [],
   "source": []
  },
  {
   "cell_type": "code",
   "execution_count": null,
   "id": "dde99ed8-83db-49f0-b7e5-8458a2b7ffff",
   "metadata": {},
   "outputs": [],
   "source": []
  }
 ],
 "metadata": {
  "kernelspec": {
   "display_name": "Python 3 (ipykernel)",
   "language": "python",
   "name": "python3"
  },
  "language_info": {
   "codemirror_mode": {
    "name": "ipython",
    "version": 3
   },
   "file_extension": ".py",
   "mimetype": "text/x-python",
   "name": "python",
   "nbconvert_exporter": "python",
   "pygments_lexer": "ipython3",
   "version": "3.11.9"
  }
 },
 "nbformat": 4,
 "nbformat_minor": 5
}
