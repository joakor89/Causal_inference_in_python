{
 "cells": [
  {
   "cell_type": "markdown",
   "id": "f58a88ef-59b9-448f-88b5-6be926c0eb0b",
   "metadata": {},
   "source": [
    "# Advanced Estimators, Experiments & More\n",
    "\n",
    "### Loading Libraries"
   ]
  },
  {
   "cell_type": "code",
   "execution_count": 1,
   "id": "558706c7-a71b-44fb-9ba0-05413c51203c",
   "metadata": {},
   "outputs": [],
   "source": [
    "# Numerical Computing\n",
    "import numpy as np\n",
    "\n",
    "# Data Manipulation\n",
    "import pandas as pd\n",
    "\n",
    "# IterTools\n",
    "from itertools import combinations\n",
    "\n",
    "# Statistical Models\n",
    "from scipy import stats\n",
    "import statsmodels.api as sm\n",
    "\n",
    "# Networkx\n",
    "import networkx as nx\n",
    "\n",
    "# JavaScript Object Notation\n",
    "import json\n",
    "\n",
    "# Data Visualization\n",
    "import graphviz\n",
    "import seaborn as sns\n",
    "import matplotlib.pyplot as plt\n",
    "\n",
    "# Scikit-Learn\n",
    "from sklearn.ensemble import GradientBoostingRegressor\n",
    "from sklearn.linear_model import LinearRegression, LogisticRegression, LassoCV\n",
    "from sklearn.metrics import mean_absolute_percentage_error\n",
    "\n",
    "# DoWhy Causal Libraries\n",
    "import dowhy\n",
    "from dowhy import gcm\n",
    "from dowhy import CausalModel\n",
    "from dowhy.causal_model import CausalModel\n",
    "\n",
    "# Notebook Iteration \n",
    "from tqdm import tqdm\n",
    "\n",
    "# Copy\n",
    "from copy import deepcopy\n",
    "\n",
    "# Light Gradient Boosting Models\n",
    "from lightgbm import LGBMRegressor, LGBMClassifier"
   ]
  },
  {
   "cell_type": "code",
   "execution_count": null,
   "id": "03eb6f3a-2b92-44fd-ada4-c8833b94b2ad",
   "metadata": {},
   "outputs": [],
   "source": [
    "dowhy.__version__"
   ]
  },
  {
   "cell_type": "code",
   "execution_count": null,
   "id": "e4fa41be-686f-445f-b6af-064a241968a2",
   "metadata": {},
   "outputs": [],
   "source": [
    "COLORS = [\n",
    "    '#00B0F0',\n",
    "    '#FF0000',\n",
    "    '#B0F000'\n",
    "]"
   ]
  },
  {
   "cell_type": "markdown",
   "id": "16548bb2-cb84-43c6-a5a7-c176045516de",
   "metadata": {},
   "source": [
    "### Doubly Robust Methods: Let’s Get More!"
   ]
  },
  {
   "cell_type": "code",
   "execution_count": null,
   "id": "932e292d-ca60-4bfc-8ea5-26ab0cf48482",
   "metadata": {},
   "outputs": [],
   "source": [
    "def plot_effect(effect_true, effect_pred, figsize=(10, 7), ylim=(5000, 22000)):\n",
    "    plt.figure(figsize=figsize)\n",
    "    plt.scatter(effect_true, effect_pred, color=COLORS[0])\n",
    "    plt.plot(np.sort(effect_true), np.sort(effect_true), color=COLORS[1], alpha=.7, label='Perfect model')\n",
    "    plt.xlabel('$True\\ effect$', fontsize=14, alpha=.5)\n",
    "    plt.ylabel('$Predicted\\ effect$', fontsize=14, alpha=.5)\n",
    "    plt.ylim(ylim[0], ylim[1])\n",
    "    plt.legend()\n",
    "    plt.show()"
   ]
  },
  {
   "cell_type": "markdown",
   "id": "6bc8a0bd-cb6d-47f3-9256-299e8c89a15f",
   "metadata": {},
   "source": [
    "#### Reading Data"
   ]
  },
  {
   "cell_type": "code",
   "execution_count": null,
   "id": "df3f0486-de6c-43a8-ac3a-fb7f97842037",
   "metadata": {},
   "outputs": [],
   "source": [
    "# Train set\n",
    "earnings_interaction_train = pd.read_csv('/Users/isisromero/desktop/causal_inference/data/ml_earnings_interaction_train.csv')\n",
    "\n",
    "# Test set\n",
    "earnings_interaction_test = pd.read_csv('/Users/isisromero/desktop/causal_inference/data/ml_earnings_interaction_test.csv')"
   ]
  },
  {
   "cell_type": "code",
   "execution_count": null,
   "id": "34d3e20a-f0c0-4152-abd1-8a1e2be1c9a6",
   "metadata": {},
   "outputs": [],
   "source": [
    "earnings_interaction_train.shape, earnings_interaction_test.shape"
   ]
  },
  {
   "cell_type": "code",
   "execution_count": null,
   "id": "92780cc9-6379-4b2a-bfbc-b8b6b81db1f5",
   "metadata": {},
   "outputs": [],
   "source": [
    "# Train \n",
    "earnings_interaction_train.head()"
   ]
  },
  {
   "cell_type": "code",
   "execution_count": null,
   "id": "8fa1681f-59ec-4f36-9f8c-64e9320f707f",
   "metadata": {},
   "outputs": [],
   "source": [
    "# Test\n",
    "earnings_interaction_test.head()"
   ]
  },
  {
   "cell_type": "markdown",
   "id": "fd5581b4-a37a-4469-bbae-4caa6da0e178",
   "metadata": {},
   "source": [
    "#### Setting Graph"
   ]
  },
  {
   "cell_type": "code",
   "execution_count": null,
   "id": "64e91162-e92a-4ad0-a99c-eb6c978be137",
   "metadata": {},
   "outputs": [],
   "source": [
    "# Construct the graph (the graph is constant for all iterations)\n",
    "nodes = ['took_a_course', 'python_proficiency', 'earnings', 'age']\n",
    "edges = [\n",
    "    ('took_a_course', 'earnings'),\n",
    "    ('age', 'took_a_course'),\n",
    "    ('age', 'earnings'),\n",
    "    ('python_proficiency', 'earnings')\n",
    "]\n",
    "\n",
    "# Generate the GML graph\n",
    "gml_string = 'graph [directed 1\\n'\n",
    "\n",
    "for node in nodes:\n",
    "    gml_string += f'\\tnode [id \"{node}\" label \"{node}\"]\\n'\n",
    "\n",
    "for edge in edges:\n",
    "    gml_string += f'\\tedge [source \"{edge[0]}\" target \"{edge[1]}\"]\\n'\n",
    "    \n",
    "gml_string += ']'"
   ]
  },
  {
   "cell_type": "code",
   "execution_count": null,
   "id": "26a877ff-e6f1-4b95-843f-1df91dfbe9b1",
   "metadata": {},
   "outputs": [],
   "source": [
    "# Instantiate the CausalModel \n",
    "model = CausalModel(\n",
    "    data=earnings_interaction_train,\n",
    "    treatment='took_a_course',\n",
    "    outcome='earnings',\n",
    "    effect_modifiers='python_proficiency',\n",
    "    graph=gml_string\n",
    ")"
   ]
  },
  {
   "cell_type": "code",
   "execution_count": null,
   "id": "705bf01c-5671-4a40-8c1e-49caa65330b8",
   "metadata": {},
   "outputs": [],
   "source": [
    "model.view_model()"
   ]
  },
  {
   "cell_type": "markdown",
   "id": "d8a29456-ee9e-4533-a898-050c129437c5",
   "metadata": {},
   "source": [
    "#### Getting The Estimand"
   ]
  },
  {
   "cell_type": "code",
   "execution_count": null,
   "id": "1a7b3f04-a630-4624-9d00-4687fac83448",
   "metadata": {},
   "outputs": [],
   "source": [
    "# Get the estimand\n",
    "estimand = model.identify_effect()\n",
    "\n",
    "print(estimand)"
   ]
  },
  {
   "cell_type": "markdown",
   "id": "0f7d08a2-bff8-4388-a55f-65076ee6e235",
   "metadata": {},
   "source": [
    "#### Estimate The Effect"
   ]
  },
  {
   "cell_type": "code",
   "execution_count": null,
   "id": "bf0378bb-f128-4a8e-a343-59e602419f2d",
   "metadata": {},
   "outputs": [],
   "source": [
    "# Get estimate (Doubly robust)\n",
    "estimate = model.estimate_effect(\n",
    "    identified_estimand=estimand,\n",
    "    method_name='backdoor.econml.dr.LinearDRLearner',\n",
    "    target_units='ate',\n",
    "    method_params={\n",
    "        'init_params': {\n",
    "            'model_propensity': LogisticRegression(),\n",
    "            'model_regression': LGBMRegressor(n_estimators=1000, max_depth=10)\n",
    "        },\n",
    "        'fit_params': {}\n",
    "    })"
   ]
  },
  {
   "cell_type": "code",
   "execution_count": null,
   "id": "25e0a69b-3f90-4b3f-92df-717779ec33ec",
   "metadata": {},
   "outputs": [],
   "source": [
    "estimate.cate_estimates.mean()"
   ]
  },
  {
   "cell_type": "code",
   "execution_count": null,
   "id": "5a5a6e02-3b75-4391-a24e-a1f5321b6f7d",
   "metadata": {},
   "outputs": [],
   "source": [
    "# Compute predictions\n",
    "effect_pred = model.causal_estimator.effect(earnings_interaction_test.drop(['true_effect', 'took_a_course'], axis=1))\n",
    "\n",
    "# Get the true effect\n",
    "effect_true = earnings_interaction_test['true_effect'].values"
   ]
  },
  {
   "cell_type": "code",
   "execution_count": null,
   "id": "224015f7-3f77-4d48-8b96-054060fc94dc",
   "metadata": {},
   "outputs": [],
   "source": [
    "# Compute the error \n",
    "mean_absolute_percentage_error(effect_true, effect_pred)"
   ]
  },
  {
   "cell_type": "code",
   "execution_count": null,
   "id": "f3d84969-25db-4b19-926b-4f3f03640121",
   "metadata": {},
   "outputs": [],
   "source": [
    "plot_effect(\n",
    "    effect_true=effect_true,\n",
    "    effect_pred=effect_pred,\n",
    ")"
   ]
  },
  {
   "cell_type": "markdown",
   "id": "99182f01-6ef0-40d3-81ec-a6aaadaca6f3",
   "metadata": {},
   "source": [
    "### Non-Linear DR"
   ]
  },
  {
   "cell_type": "code",
   "execution_count": null,
   "id": "7d857894-2ec5-4067-be4c-33c714a655fa",
   "metadata": {},
   "outputs": [],
   "source": [
    "# Get estimate (Doubly robust)\n",
    "estimate = model.estimate_effect(\n",
    "    identified_estimand=estimand,\n",
    "    method_name='backdoor.econml.dr.DRLearner',\n",
    "    target_units='ate',\n",
    "    method_params={\n",
    "        'init_params': {\n",
    "            'model_propensity': LogisticRegression(),\n",
    "            'model_regression': LGBMRegressor(n_estimators=1000, max_depth=10),\n",
    "            'model_final': LGBMRegressor(n_estimators=500, max_depth=10),\n",
    "        },\n",
    "        'fit_params': {}\n",
    "    })# Compute predictions\n",
    "effect_pred = model.causal_estimator.effect(earnings_interaction_test.drop(['true_effect', 'took_a_course'], axis=1))\n",
    "\n",
    "# Get the true effect\n",
    "effect_true = earnings_interaction_test['true_effect'].values"
   ]
  },
  {
   "cell_type": "code",
   "execution_count": null,
   "id": "24d223c4-db04-41a3-833d-f406c0553a73",
   "metadata": {},
   "outputs": [],
   "source": [
    "# Compute predictions\n",
    "effect_pred = model.causal_estimator.effect(earnings_interaction_test.drop(['true_effect', 'took_a_course'], axis=1))\n",
    "\n",
    "# Get the true effect\n",
    "effect_true = earnings_interaction_test['true_effect'].values"
   ]
  },
  {
   "cell_type": "code",
   "execution_count": null,
   "id": "da354a33-6457-4bc7-969c-eaf3c7193f94",
   "metadata": {},
   "outputs": [],
   "source": [
    "# Compute the error \n",
    "mean_absolute_percentage_error(effect_true, effect_pred)"
   ]
  },
  {
   "cell_type": "code",
   "execution_count": null,
   "id": "b1224489-9ba9-41bb-98f5-078955cf81f5",
   "metadata": {},
   "outputs": [],
   "source": [
    "plot_effect(\n",
    "    effect_true=effect_true,\n",
    "    effect_pred=effect_pred,\n",
    ")"
   ]
  },
  {
   "cell_type": "markdown",
   "id": "a5e4dd3c-83fc-4b8d-a911-9bfab9e4c753",
   "metadata": {},
   "source": [
    "### If Machine Learning is Cool, How About Double Machine Learning?\n",
    "\n",
    "#### Estimating The Effect"
   ]
  },
  {
   "cell_type": "code",
   "execution_count": null,
   "id": "feb17600-df66-498e-9da4-cd68fed5f4f6",
   "metadata": {},
   "outputs": [],
   "source": [
    "# Get estimate (DML)\n",
    "estimate = model.estimate_effect(\n",
    "    identified_estimand=estimand,\n",
    "    method_name='backdoor.econml.dml.LinearDML',\n",
    "    target_units='ate',\n",
    "    method_params={\n",
    "        'init_params': {\n",
    "            'model_y': LGBMRegressor(n_estimators=500, max_depth=10),\n",
    "            'model_t': LogisticRegression(),\n",
    "            'discrete_treatment': True\n",
    "        },\n",
    "        'fit_params': {}\n",
    "    })"
   ]
  },
  {
   "cell_type": "code",
   "execution_count": null,
   "id": "f480bba7-530f-4419-877e-1a0ab0aaaf46",
   "metadata": {},
   "outputs": [],
   "source": [
    "estimate.cate_estimates.mean()"
   ]
  },
  {
   "cell_type": "markdown",
   "id": "ff728b26-acf0-44dc-9f1b-a84c28787028",
   "metadata": {},
   "source": [
    "#### Predicting on Test Data"
   ]
  },
  {
   "cell_type": "code",
   "execution_count": null,
   "id": "2fc42e75-107c-480e-a1c3-349c9074715b",
   "metadata": {},
   "outputs": [],
   "source": [
    "# Compute predictions\n",
    "effect_pred = model.causal_estimator.effect(earnings_interaction_test.drop(['true_effect', 'took_a_course'], axis=1))\n",
    "\n",
    "# Get the true effect\n",
    "effect_true = earnings_interaction_test['true_effect'].values"
   ]
  },
  {
   "cell_type": "code",
   "execution_count": null,
   "id": "7a6a1ddb-6062-42de-bc99-7a4ea5665d7d",
   "metadata": {},
   "outputs": [],
   "source": [
    "# Compute the error \n",
    "mean_absolute_percentage_error(effect_true, effect_pred)"
   ]
  },
  {
   "cell_type": "code",
   "execution_count": null,
   "id": "f271d311-d5b9-469a-a579-ac6ffe78a1a9",
   "metadata": {},
   "outputs": [],
   "source": [
    "plot_effect(\n",
    "    effect_true=effect_true,\n",
    "    effect_pred=effect_pred,\n",
    ")"
   ]
  },
  {
   "cell_type": "markdown",
   "id": "7712d30e-93c6-45ff-a36b-ef61e4c6b285",
   "metadata": {},
   "source": [
    "### DML with more Folds"
   ]
  },
  {
   "cell_type": "code",
   "execution_count": null,
   "id": "7437b0fa-0703-41d9-87a5-3a1c9719e6f6",
   "metadata": {},
   "outputs": [],
   "source": [
    "# Estimate the effect\n",
    "estimate = model.estimate_effect(\n",
    "    identified_estimand=estimand,\n",
    "    method_name='backdoor.econml.dml.LinearDML',\n",
    "    target_units='ate',\n",
    "    method_params={\n",
    "        'init_params': {\n",
    "            'model_y': LGBMRegressor(n_estimators=50, max_depth=10),\n",
    "            'model_t': LogisticRegression(),\n",
    "            'discrete_treatment': True,\n",
    "            'cv': 4\n",
    "        },\n",
    "        'fit_params': {\n",
    "        }\n",
    "    })"
   ]
  },
  {
   "cell_type": "code",
   "execution_count": null,
   "id": "b9582a2b-7082-4db3-95ba-03c825e805a7",
   "metadata": {},
   "outputs": [],
   "source": [
    "estimate.cate_estimates.mean()"
   ]
  },
  {
   "cell_type": "code",
   "execution_count": null,
   "id": "192905c1-f703-42c2-a5aa-fe5a073af461",
   "metadata": {},
   "outputs": [],
   "source": [
    "# Compute predictions\n",
    "effect_pred = model.causal_estimator.effect(earnings_interaction_test.drop(['true_effect', 'took_a_course'], axis=1))\n",
    "\n",
    "# Get the true effect\n",
    "effect_true = earnings_interaction_test['true_effect'].values"
   ]
  },
  {
   "cell_type": "code",
   "execution_count": null,
   "id": "98b6da63-67e3-4fa0-9e40-e1dfc258e2ab",
   "metadata": {},
   "outputs": [],
   "source": [
    "# Compute the error \n",
    "mean_absolute_percentage_error(effect_true, effect_pred)"
   ]
  },
  {
   "cell_type": "code",
   "execution_count": null,
   "id": "360ac00e-11eb-4e07-90e7-f7aca43309d7",
   "metadata": {},
   "outputs": [],
   "source": [
    "plot_effect(\n",
    "    effect_true=effect_true,\n",
    "    effect_pred=effect_pred,\n",
    ")"
   ]
  },
  {
   "cell_type": "markdown",
   "id": "5a9a0701-8f22-41f5-a475-5c3450fa0113",
   "metadata": {},
   "source": [
    "#### DML with Cross-Validation"
   ]
  },
  {
   "cell_type": "code",
   "execution_count": null,
   "id": "83a9ba03-1939-4d01-9f39-0a23e101d260",
   "metadata": {},
   "outputs": [],
   "source": [
    "# Define wrapped CV models\n",
    "model_y = GridSearchCV(\n",
    "    estimator=LGBMRegressor(),\n",
    "    param_grid={\n",
    "        'max_depth': [3, 10, 20, 100],\n",
    "        'n_estimators': [10, 50, 100]\n",
    "    }, cv=10, n_jobs=-1, scoring='neg_mean_squared_error'\n",
    ")\n",
    "\n",
    "model_t = GridSearchCV(\n",
    "    estimator=LGBMClassifier(),\n",
    "    param_grid={\n",
    "        'max_depth': [3, 10, 20, 100],\n",
    "        'n_estimators': [10, 50, 100]\n",
    "    }, cv=10, n_jobs=-1, scoring='accuracy'\n",
    ")"
   ]
  },
  {
   "cell_type": "code",
   "execution_count": null,
   "id": "da792d29-45d7-42cc-8fb5-4b3072e27b9b",
   "metadata": {},
   "outputs": [],
   "source": [
    "# Estimate the effect\n",
    "estimate = model.estimate_effect(\n",
    "    identified_estimand=estimand,\n",
    "    method_name='backdoor.econml.dml.LinearDML',\n",
    "    target_units='ate',\n",
    "    method_params={\n",
    "        'init_params': {\n",
    "            'model_y': model_y,\n",
    "            'model_t': model_t,\n",
    "            'discrete_treatment': True,\n",
    "            'cv': 4\n",
    "        },\n",
    "        'fit_params': {\n",
    "        }\n",
    "    })"
   ]
  },
  {
   "cell_type": "code",
   "execution_count": null,
   "id": "f013f887-11a4-45ac-9da4-7ce731d345f5",
   "metadata": {},
   "outputs": [],
   "source": [
    "estimate.cate_estimates.mean()"
   ]
  },
  {
   "cell_type": "code",
   "execution_count": null,
   "id": "45c8cfb0-f539-4e46-a4f1-8d27b4b6d920",
   "metadata": {},
   "outputs": [],
   "source": [
    "# Compute predictions\n",
    "effect_pred = model.causal_estimator.effect(earnings_interaction_test.drop(['true_effect', 'took_a_course'], axis=1))\n",
    "\n",
    "# Get the true effect\n",
    "effect_true = earnings_interaction_test['true_effect'].values"
   ]
  },
  {
   "cell_type": "code",
   "execution_count": null,
   "id": "5c96d9df-9271-4f19-b0fb-16ad3bdda166",
   "metadata": {},
   "outputs": [],
   "source": [
    "# Compute the error \n",
    "mean_absolute_percentage_error(effect_true, effect_pred)"
   ]
  },
  {
   "cell_type": "code",
   "execution_count": null,
   "id": "7ede52b7-b7f1-4312-88da-7507a0d4e491",
   "metadata": {},
   "outputs": [],
   "source": [
    "plot_effect(\n",
    "    effect_true=effect_true,\n",
    "    effect_pred=effect_pred,\n",
    ")"
   ]
  },
  {
   "cell_type": "markdown",
   "id": "02ee9ba7-fa8d-4d3c-94e4-9ca03369c0f7",
   "metadata": {},
   "source": [
    "### Causal Forests & More"
   ]
  },
  {
   "cell_type": "code",
   "execution_count": null,
   "id": "b7fd15d9-7f39-4d1d-9fc1-a309548ac6f8",
   "metadata": {},
   "outputs": [],
   "source": [
    "# Estimate the effect\n",
    "estimate = model.estimate_effect(\n",
    "    identified_estimand=estimand,\n",
    "    method_name='backdoor.econml.dml.CausalForestDML',\n",
    "    target_units='ate',\n",
    "    method_params={\n",
    "        'init_params': {\n",
    "            'model_y': LGBMRegressor(n_estimators=50, max_depth=10),\n",
    "            'model_t': LGBMClassifier(n_estimators=50, max_depth=10),\n",
    "            'discrete_treatment': True,\n",
    "            'cv': 4\n",
    "        },\n",
    "        'fit_params': {\n",
    "        }\n",
    "    }\n",
    ")"
   ]
  },
  {
   "cell_type": "code",
   "execution_count": null,
   "id": "5bd854c8-7bbd-4e85-8cc8-c989e1118811",
   "metadata": {},
   "outputs": [],
   "source": [
    "estimate.cate_estimates.mean()"
   ]
  },
  {
   "cell_type": "code",
   "execution_count": null,
   "id": "997c50b3-ae79-4460-8927-18967bff28ff",
   "metadata": {},
   "outputs": [],
   "source": [
    "# Compute predictions\n",
    "effect_pred = model.causal_estimator.effect(earnings_interaction_test.drop(['true_effect', 'took_a_course'], axis=1))\n",
    "\n",
    "# Get the true effect\n",
    "effect_true = earnings_interaction_test['true_effect'].values"
   ]
  },
  {
   "cell_type": "code",
   "execution_count": null,
   "id": "da1ee00f-f612-4a44-9a87-85e51fe1ae79",
   "metadata": {},
   "outputs": [],
   "source": [
    "# Compute the error \n",
    "mean_absolute_percentage_error(effect_true, effect_pred)"
   ]
  },
  {
   "cell_type": "code",
   "execution_count": null,
   "id": "4445a6fb-0423-4785-8619-0a722f1e0f13",
   "metadata": {},
   "outputs": [],
   "source": [
    "plot_effect(\n",
    "    effect_true=effect_true,\n",
    "    effect_pred=effect_pred,\n",
    ")"
   ]
  },
  {
   "cell_type": "markdown",
   "id": "33f3ae4a-c135-4054-92f6-6438e3308c70",
   "metadata": {},
   "source": [
    "### Heterogenous Treatment Effects With Experimental Data"
   ]
  },
  {
   "cell_type": "code",
   "execution_count": null,
   "id": "c60a6194-c5c1-42b8-8e81-090df4caab66",
   "metadata": {},
   "outputs": [],
   "source": [
    "# Read in the data\n",
    "hillstrom_clean = pd.read_csv(r'./data/hillstrom_clean.csv')\n",
    "\n",
    "# Read in labels mapping\n",
    "with open(r'./data/hillstrom_clean_label_mapping.json', 'r') as f:\n",
    "    hillstrom_labels_mapping = json.load(f)"
   ]
  },
  {
   "cell_type": "code",
   "execution_count": null,
   "id": "7f80ddaa-1f9e-479b-9b15-225d74d3027c",
   "metadata": {},
   "outputs": [],
   "source": [
    "hillstrom_clean.head()"
   ]
  },
  {
   "cell_type": "code",
   "execution_count": null,
   "id": "227688a8-a708-46cb-8501-8f949d72d2a8",
   "metadata": {},
   "outputs": [],
   "source": [
    "# Drop redundant cols to avoid multicollinearity\n",
    "hillstrom_clean = hillstrom_clean.drop(['zip_code__urban', 'channel__web'], axis=1)"
   ]
  },
  {
   "cell_type": "markdown",
   "id": "271d0bda-a6bd-4746-9146-dad1e71a8e62",
   "metadata": {},
   "source": [
    "#### EDA"
   ]
  },
  {
   "cell_type": "code",
   "execution_count": null,
   "id": "47b43d2f-c7e2-40e9-b284-341f23b7732c",
   "metadata": {},
   "outputs": [],
   "source": [
    "# Display mapping\n",
    "hillstrom_labels_mapping"
   ]
  },
  {
   "cell_type": "code",
   "execution_count": null,
   "id": "5d6efc10-c8c3-4233-8825-7c56b1ba771b",
   "metadata": {},
   "outputs": [],
   "source": [
    "# P(visit)\n",
    "hillstrom_clean.visit.mean()"
   ]
  },
  {
   "cell_type": "code",
   "execution_count": null,
   "id": "470def8a-d2a7-479b-b304-b1391941ba16",
   "metadata": {},
   "outputs": [],
   "source": [
    "# P(conversion)\n",
    "hillstrom_clean.conversion.mean()"
   ]
  },
  {
   "cell_type": "code",
   "execution_count": null,
   "id": "604f370d-74dc-4aeb-b2a9-0888ccb4eac1",
   "metadata": {},
   "outputs": [],
   "source": [
    "# Get sample size\n",
    "sample_size = hillstrom_clean.shape[0]"
   ]
  },
  {
   "cell_type": "code",
   "execution_count": null,
   "id": "be555474-dec3-41a9-b161-d914a75a20ac",
   "metadata": {},
   "outputs": [],
   "source": [
    "# Check how random is the treatment assignment\n",
    "\n",
    "# Split data\n",
    "hillstrom_X = hillstrom_clean.drop(['visit', 'conversion', 'spend', 'treatment'], axis=1)\n",
    "hillstrom_Y = hillstrom_clean['spend']\n",
    "hillstrom_T = hillstrom_clean['treatment']"
   ]
  },
  {
   "cell_type": "code",
   "execution_count": null,
   "id": "531135b3-5ef0-4951-ac6c-f6df246b2853",
   "metadata": {},
   "outputs": [],
   "source": [
    "# P(T=t)\n",
    "hillstrom_T.value_counts() / sample_size"
   ]
  },
  {
   "cell_type": "code",
   "execution_count": null,
   "id": "e5efe1aa-09c7-41e9-a1fe-fb9266d620d4",
   "metadata": {},
   "outputs": [],
   "source": [
    "# Train-test split\n",
    "X_train_eda, X_test_eda, T_train_eda, T_test_eda = train_test_split(hillstrom_X, hillstrom_T, test_size=.5)"
   ]
  },
  {
   "cell_type": "code",
   "execution_count": null,
   "id": "574b42c6-8180-4747-bf8c-28cd61ae7c1e",
   "metadata": {},
   "outputs": [],
   "source": [
    "# Split quality\n",
    "T_test_eda.value_counts() / T_test_eda.shape[0]"
   ]
  },
  {
   "cell_type": "code",
   "execution_count": null,
   "id": "9b227773-8aa7-4092-9652-a0575c17c221",
   "metadata": {},
   "outputs": [],
   "source": [
    "# Fit the EDA model\n",
    "lgbm_eda = LGBMClassifier()\n",
    "lgbm_eda.fit(X_train_eda, T_train_eda)"
   ]
  },
  {
   "cell_type": "code",
   "execution_count": null,
   "id": "68cf96f9-3f46-4415-93a3-cc58249787c8",
   "metadata": {},
   "outputs": [],
   "source": [
    "# Get predictions on the test\n",
    "T_pred_eda = lgbm_eda.predict(X_test_eda)\n",
    "\n",
    "# Check accuracy\n",
    "acc_eda = accuracy_score(T_test_eda, T_pred_eda)\n",
    "acc_eda"
   ]
  },
  {
   "cell_type": "code",
   "execution_count": null,
   "id": "8a0f6a73-03f3-4b45-98c8-312e17ec7e15",
   "metadata": {},
   "outputs": [],
   "source": [
    "# Generate random data\n",
    "random_scores = []\n",
    "\n",
    "test_eda_sample_size = T_test_eda.shape[0]\n",
    "\n",
    "for i in range(10000):\n",
    "    random_scores.append(\n",
    "        (np.random.choice(\n",
    "            [0, 1, 2], \n",
    "            test_eda_sample_size) == np.random.choice(\n",
    "            [0, 1, 2], \n",
    "            test_eda_sample_size)).mean())\n",
    "    \n",
    "np.quantile(random_scores, .025), np.quantile(random_scores, .975)"
   ]
  },
  {
   "cell_type": "code",
   "execution_count": null,
   "id": "fe0154b1-c2db-4875-a52b-3d9dac6cbb0f",
   "metadata": {},
   "outputs": [],
   "source": [
    "# Get 95% CIs\n",
    "lower = np.quantile(random_scores, .025)\n",
    "upper = np.quantile(random_scores, .975)\n",
    "lower, upper"
   ]
  },
  {
   "cell_type": "code",
   "execution_count": null,
   "id": "fe00a446-05a1-4b02-a1d5-29895cc7a010",
   "metadata": {},
   "outputs": [],
   "source": [
    "# Plot radom vs accuracy\n",
    "plt.figure(figsize=(10, 6))\n",
    "plt.fill_betweenx(\n",
    "    x1=lower, \n",
    "    x2=upper, \n",
    "    y=np.arange(0, 300),\n",
    "    color=COLORS[0],\n",
    "    alpha=.1,\n",
    "    label='95% empirical CI'\n",
    ")\n",
    "plt.hist(random_scores, alpha=.7, color=COLORS[0], bins=100, label='Random models\\n($n=10e3$)')\n",
    "plt.axvline(acc_eda, color=COLORS[1], ls='--', label='Model accuracy')\n",
    "\n",
    "plt.legend()\n",
    "plt.show()"
   ]
  },
  {
   "cell_type": "code",
   "execution_count": null,
   "id": "69cfec0a-0cb6-49c8-83e0-2c70833858a2",
   "metadata": {},
   "outputs": [],
   "source": [
    "plt.figure(figsize=(8, 6))\n",
    "\n",
    "plt.hist(\n",
    "    hillstrom_clean[hillstrom_clean['treatment'] == 2]['spend'], \n",
    "    label=f'Men\\'s', \n",
    "    color=COLORS[0],\n",
    "    bins=100, \n",
    "    alpha=.5)\n",
    "\n",
    "plt.hist(\n",
    "    hillstrom_clean[hillstrom_clean['treatment'] == 1]['spend'], \n",
    "    label=f'Women\\'s',\n",
    "    color=COLORS[1],\n",
    "    bins=100, \n",
    "    alpha=.5)\n",
    "\n",
    "plt.legend()\n",
    "plt.yscale('log')\n",
    "plt.show()"
   ]
  },
  {
   "cell_type": "code",
   "execution_count": null,
   "id": "3d0eba21-0370-4797-b721-031466168be9",
   "metadata": {},
   "outputs": [],
   "source": [
    "hillstrom_clean[hillstrom_clean['treatment'] == 1]['spend'].var()"
   ]
  },
  {
   "cell_type": "code",
   "execution_count": null,
   "id": "042b4d36-ef8b-4d55-96b6-9ad05217566d",
   "metadata": {},
   "outputs": [],
   "source": [
    "hillstrom_labels_mapping"
   ]
  },
  {
   "cell_type": "markdown",
   "id": "6d928de1-c07d-4ef3-b265-8a4600722d37",
   "metadata": {},
   "source": [
    "### Modeling Hillstrom"
   ]
  },
  {
   "cell_type": "code",
   "execution_count": null,
   "id": "9d628d12-fac1-47c0-be79-eb89db8b102e",
   "metadata": {},
   "outputs": [],
   "source": [
    "# No. of conversions\n",
    "(hillstrom_Y[hillstrom_T > 0] > 0).sum()"
   ]
  },
  {
   "cell_type": "code",
   "execution_count": null,
   "id": "63ffa26f-aa65-4b7f-b01f-7c155948f3f7",
   "metadata": {},
   "outputs": [],
   "source": []
  },
  {
   "cell_type": "code",
   "execution_count": null,
   "id": "5dd0a464-0a2e-4171-9dd0-35a473737604",
   "metadata": {},
   "outputs": [],
   "source": []
  },
  {
   "cell_type": "code",
   "execution_count": null,
   "id": "d079c5c7-95f8-431f-b3a1-a1d19ca16d64",
   "metadata": {},
   "outputs": [],
   "source": []
  },
  {
   "cell_type": "code",
   "execution_count": null,
   "id": "2001ac4e-83fb-47e1-9c82-20b6a9c4efb7",
   "metadata": {},
   "outputs": [],
   "source": []
  },
  {
   "cell_type": "code",
   "execution_count": null,
   "id": "9fea911e-c872-456f-9b05-9189005ba53c",
   "metadata": {},
   "outputs": [],
   "source": []
  }
 ],
 "metadata": {
  "kernelspec": {
   "display_name": "Python 3 (ipykernel)",
   "language": "python",
   "name": "python3"
  },
  "language_info": {
   "codemirror_mode": {
    "name": "ipython",
    "version": 3
   },
   "file_extension": ".py",
   "mimetype": "text/x-python",
   "name": "python",
   "nbconvert_exporter": "python",
   "pygments_lexer": "ipython3",
   "version": "3.11.9"
  }
 },
 "nbformat": 4,
 "nbformat_minor": 5
}
