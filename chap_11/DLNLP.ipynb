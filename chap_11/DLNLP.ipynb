{
 "cells": [
  {
   "cell_type": "markdown",
   "id": "e537f984-cd89-4f7b-8738-8f7ac80c1978",
   "metadata": {},
   "source": [
    "# Causal Inference & Machine Learning: Deep Learning, NLP and Beyond\n",
    "\n",
    "### Loading Libraries"
   ]
  },
  {
   "cell_type": "code",
   "execution_count": null,
   "id": "f659188a-02d3-4a51-87e1-2c1c16812596",
   "metadata": {},
   "outputs": [],
   "source": [
    "# Numerical Computing\n",
    "import numpy as np\n",
    "\n",
    "# Data Manipulation\n",
    "import pandas as pd\n",
    "\n",
    "# IterTools\n",
    "from itertools import combinations\n",
    "\n",
    "# Statistical Models\n",
    "from scipy import stats\n",
    "import statsmodels.api as sm\n",
    "\n",
    "# Networkx\n",
    "import networkx as nx\n",
    "\n",
    "# JavaScript Object Notation\n",
    "import json\n",
    "\n",
    "# Data Visualization\n",
    "import graphviz\n",
    "import seaborn as sns\n",
    "import matplotlib.pyplot as plt\n",
    "\n",
    "# Scikit-Learn\n",
    "from sklearn.preprocessing import StandardScaler\n",
    "from sklearn.ensemble import GradientBoostingRegressor\n",
    "from sklearn.linear_model import LinearRegression, LogisticRegression, LassoCV\n",
    "from sklearn.metrics import mean_absolute_percentage_error\n",
    "\n",
    "\n",
    "# DoWhy Causal Libraries\n",
    "import dowhy\n",
    "from dowhy import gcm\n",
    "from dowhy import CausalModel\n",
    "from dowhy.causal_model import CausalModel\n",
    "\n",
    "# Notebook Iteration \n",
    "from tqdm import tqdm\n",
    "\n",
    "# Copy\n",
    "from copy import deepcopy\n",
    "\n",
    "# Light Gradient Boosting Models\n",
    "from lightgbm import LGBMRegressor, LGBMClassifier\n",
    "\n",
    "# PyTorch & Transformers\n",
    "from catenets.models.torch import TARNet, SNet, FlexTENet\n",
    "from models.causal_bert_pytorch.CausalBert import CausalBertWrapper"
   ]
  },
  {
   "cell_type": "code",
   "execution_count": null,
   "id": "b8405a1a-b848-4ebc-8320-58c478da0bb9",
   "metadata": {},
   "outputs": [],
   "source": [
    "# Setting Device\n",
    "device = 'cuda' if torch.cuda.is_available() else 'cpu'\n",
    "device"
   ]
  },
  {
   "cell_type": "code",
   "execution_count": null,
   "id": "5ec1ba32-0529-48ae-9251-209741d88163",
   "metadata": {},
   "outputs": [],
   "source": [
    "COLORS = [\n",
    "    '#00B0F0',\n",
    "    '#FF0000',\n",
    "    '#B0F000'\n",
    "]"
   ]
  },
  {
   "cell_type": "code",
   "execution_count": null,
   "id": "05820238-73a8-402e-8235-786ab17a35ed",
   "metadata": {},
   "outputs": [],
   "source": [
    "def plot_effect(effect_true, effect_pred, figsize=(10, 7), ylim=(5000, 22000)):\n",
    "    plt.figure(figsize=figsize)\n",
    "    plt.scatter(effect_true, effect_pred, color=COLORS[0])\n",
    "    plt.plot(np.sort(effect_true), np.sort(effect_true), color=COLORS[1], alpha=.7, label='Perfect model')\n",
    "    plt.xlabel('$True\\ effect$', fontsize=14, alpha=.5)\n",
    "    plt.ylabel('$Predicted\\ effect$', fontsize=14, alpha=.5)\n",
    "    plt.ylim(ylim[0], ylim[1])\n",
    "    plt.legend()\n",
    "    plt.show()"
   ]
  },
  {
   "cell_type": "markdown",
   "id": "00471ab1-54ee-4e8f-839f-c42e73af2c70",
   "metadata": {},
   "source": [
    "#### Setting Random Seeds"
   ]
  },
  {
   "cell_type": "code",
   "execution_count": null,
   "id": "5d06c716-b53c-40de-9f6a-e34573232a0a",
   "metadata": {},
   "outputs": [],
   "source": [
    "SEED = 18\n",
    "\n",
    "np.random.seed(SEED)\n",
    "pl.seed_everything(SEED)  "
   ]
  },
  {
   "cell_type": "markdown",
   "id": "2b789bf3-dd47-47da-ab65-5261563cf922",
   "metadata": {},
   "source": [
    "### Going Deeper: Deep Learning for Heterogenous Treatment Effects\n",
    "\n",
    "#### Data"
   ]
  },
  {
   "cell_type": "code",
   "execution_count": null,
   "id": "a05763f6-3aec-4b56-b75b-bad341ae3cdf",
   "metadata": {},
   "outputs": [],
   "source": []
  },
  {
   "cell_type": "code",
   "execution_count": null,
   "id": "a5e22c61-625f-4841-9c7c-4baddf3b9e73",
   "metadata": {},
   "outputs": [],
   "source": []
  },
  {
   "cell_type": "code",
   "execution_count": null,
   "id": "4c1dbd17-4078-4c62-8825-37798fd2b133",
   "metadata": {},
   "outputs": [],
   "source": []
  }
 ],
 "metadata": {
  "kernelspec": {
   "display_name": "Python 3 (ipykernel)",
   "language": "python",
   "name": "python3"
  },
  "language_info": {
   "codemirror_mode": {
    "name": "ipython",
    "version": 3
   },
   "file_extension": ".py",
   "mimetype": "text/x-python",
   "name": "python",
   "nbconvert_exporter": "python",
   "pygments_lexer": "ipython3",
   "version": "3.11.9"
  }
 },
 "nbformat": 4,
 "nbformat_minor": 5
}
