{
 "cells": [
  {
   "cell_type": "markdown",
   "id": "e537f984-cd89-4f7b-8738-8f7ac80c1978",
   "metadata": {},
   "source": [
    "# Causal Inference & Machine Learning: Deep Learning, NLP and Beyond\n",
    "\n",
    "### Loading Libraries"
   ]
  },
  {
   "cell_type": "code",
   "execution_count": 2,
   "id": "f659188a-02d3-4a51-87e1-2c1c16812596",
   "metadata": {},
   "outputs": [],
   "source": [
    "# Numerical Computing\n",
    "import numpy as np\n",
    "\n",
    "# Data Manipulation\n",
    "import pandas as pd\n",
    "\n",
    "# IterTools\n",
    "from itertools import combinations\n",
    "\n",
    "# Statistical Models\n",
    "from scipy import stats\n",
    "import statsmodels.api as sm\n",
    "\n",
    "# Networkx\n",
    "import networkx as nx\n",
    "\n",
    "# JavaScript Object Notation\n",
    "import json\n",
    "\n",
    "# Data Visualization\n",
    "import graphviz\n",
    "import seaborn as sns\n",
    "import matplotlib.pyplot as plt\n",
    "\n",
    "# Scikit-Learn\n",
    "from sklearn.preprocessing import StandardScaler\n",
    "from sklearn.ensemble import GradientBoostingRegressor\n",
    "from sklearn.linear_model import LinearRegression, LogisticRegression, LassoCV\n",
    "from sklearn.metrics import mean_absolute_percentage_error\n",
    "\n",
    "\n",
    "# DoWhy Causal Libraries\n",
    "import dowhy\n",
    "from dowhy import gcm\n",
    "from dowhy import CausalModel\n",
    "from dowhy.causal_model import CausalModel\n",
    "\n",
    "# Notebook Iteration \n",
    "from tqdm import tqdm\n",
    "\n",
    "# Copy\n",
    "from copy import deepcopy\n",
    "\n",
    "# Light Gradient Boosting Models\n",
    "from lightgbm import LGBMRegressor, LGBMClassifier\n",
    "\n",
    "# PyTorch & Transformers\n",
    "import torch\n",
    "from catenets.models.torch import TARNet, SNet, FlexTENet\n",
    "from models.causal_bert_pytorch.CausalBert import CausalBertWrapper"
   ]
  },
  {
   "cell_type": "code",
   "execution_count": 3,
   "id": "b8405a1a-b848-4ebc-8320-58c478da0bb9",
   "metadata": {},
   "outputs": [],
   "source": [
    "# Setting Device\n",
    "device = 'cuda' if torch.cuda.is_available() else 'cpu'\n",
    "device"
   ]
  },
  {
   "cell_type": "code",
   "execution_count": 5,
   "id": "5ec1ba32-0529-48ae-9251-209741d88163",
   "metadata": {},
   "outputs": [],
   "source": [
    "COLORS = [\n",
    "    '#00B0F0',\n",
    "    '#FF0000',\n",
    "    '#B0F000'\n",
    "]"
   ]
  },
  {
   "cell_type": "code",
   "execution_count": null,
   "id": "05820238-73a8-402e-8235-786ab17a35ed",
   "metadata": {},
   "outputs": [],
   "source": [
    "def plot_effect(effect_true, effect_pred, figsize=(10, 7), ylim=(5000, 22000)):\n",
    "    plt.figure(figsize=figsize)\n",
    "    plt.scatter(effect_true, effect_pred, color=COLORS[0])\n",
    "    plt.plot(np.sort(effect_true), np.sort(effect_true), color=COLORS[1], alpha=.7, label='Perfect model')\n",
    "    plt.xlabel('$True\\ effect$', fontsize=14, alpha=.5)\n",
    "    plt.ylabel('$Predicted\\ effect$', fontsize=14, alpha=.5)\n",
    "    plt.ylim(ylim[0], ylim[1])\n",
    "    plt.legend()\n",
    "    plt.show()"
   ]
  },
  {
   "cell_type": "markdown",
   "id": "00471ab1-54ee-4e8f-839f-c42e73af2c70",
   "metadata": {},
   "source": [
    "#### Setting Random Seeds"
   ]
  },
  {
   "cell_type": "code",
   "execution_count": null,
   "id": "5d06c716-b53c-40de-9f6a-e34573232a0a",
   "metadata": {},
   "outputs": [],
   "source": [
    "SEED = 18\n",
    "\n",
    "np.random.seed(SEED)\n",
    "pl.seed_everything(SEED)  "
   ]
  },
  {
   "cell_type": "markdown",
   "id": "2b789bf3-dd47-47da-ab65-5261563cf922",
   "metadata": {},
   "source": [
    "### Going Deeper: Deep Learning for Heterogenous Treatment Effects\n",
    "\n",
    "#### Data"
   ]
  },
  {
   "cell_type": "code",
   "execution_count": null,
   "id": "a05763f6-3aec-4b56-b75b-bad341ae3cdf",
   "metadata": {},
   "outputs": [],
   "source": [
    "SAMPLE_SIZE = 5000\n",
    "TRAIN_SIZE = 4500\n",
    "N_FEATURES = 20\n",
    "\n",
    "X = np.random.normal(0, 1, (SAMPLE_SIZE, N_FEATURES))\n",
    "T = np.random.binomial(1, 0.5, SAMPLE_SIZE)\n",
    "\n",
    "weights = np.random.gumbel(5, 10, (SAMPLE_SIZE, N_FEATURES - 1))\n",
    "\n",
    "y = (50 * T * np.abs(X[:, 0])**1.2) + (weights * X[:, 1:]).sum(axis=1)\n",
    "\n",
    "y0 = (50 * 0 * np.abs(X[:, 0])**1.2) + (weights * X[:, 1:]).sum(axis=1)\n",
    "y1 = (50 * 1 * np.abs(X[:, 0])**1.2) + (weights * X[:, 1:]).sum(axis=1)"
   ]
  },
  {
   "cell_type": "code",
   "execution_count": null,
   "id": "a5e22c61-625f-4841-9c7c-4baddf3b9e73",
   "metadata": {},
   "outputs": [],
   "source": [
    "effect_true = y1[TRAIN_SIZE:] - y0[TRAIN_SIZE:] "
   ]
  },
  {
   "cell_type": "markdown",
   "id": "0ef0f1b8-b618-4623-96c6-e18c04a985c6",
   "metadata": {},
   "source": [
    "### S-Learner, X-Learner, DR-Learner & Causal Forest (Benchmark)"
   ]
  },
  {
   "cell_type": "code",
   "execution_count": null,
   "id": "207c3e65-07be-41ac-8359-87c92889a82c",
   "metadata": {},
   "outputs": [],
   "source": [
    "benchmark_models = {\n",
    "    'SLearner': SLearner(overall_model=LGBMRegressor()),\n",
    "    'XLearner': XLearner(models=LGBMRegressor()),\n",
    "    'DRLearner': LinearDRLearner(),\n",
    "    'CausalForest': CausalForestDML()\n",
    "}\n",
    "\n",
    "benchmark_results = {}\n",
    "\n",
    "\n",
    "for model_name, model in benchmark_models.items():\n",
    "    model.fit(\n",
    "        X=X[:TRAIN_SIZE, :],\n",
    "        T=T[:TRAIN_SIZE],\n",
    "        Y=y[:TRAIN_SIZE]\n",
    "    )\n",
    "\n",
    "    effect_pred = model.effect(\n",
    "        X[TRAIN_SIZE:]\n",
    "    )\n",
    "    \n",
    "    benchmark_results[model_name] = effect_pred"
   ]
  },
  {
   "cell_type": "code",
   "execution_count": null,
   "id": "3ab001e4-3212-40ad-bff6-c2216c0dbfa5",
   "metadata": {},
   "outputs": [],
   "source": [
    "for model_name in benchmark_results.keys():\n",
    "    effect_pred = benchmark_results[model_name]\n",
    "    print(f'{model_name} MAPE = {mean_absolute_percentage_error(effect_true, effect_pred)}')\n",
    "    \n",
    "    plot_effect(\n",
    "        effect_true=effect_true,\n",
    "        effect_pred=effect_pred,\n",
    "        ylim=(-150, 250)\n",
    "    )"
   ]
  },
  {
   "cell_type": "markdown",
   "id": "45f0544c-5bba-45a7-9f8c-dbb6cccf53bf",
   "metadata": {},
   "source": [
    "### TARNet"
   ]
  },
  {
   "cell_type": "code",
   "execution_count": null,
   "id": "41844d86-a573-47f0-b58d-d380ad84c677",
   "metadata": {},
   "outputs": [],
   "source": [
    "tarnet = TARNet(\n",
    "    n_unit_in=X.shape[1],\n",
    "    binary_y=False,\n",
    "    n_units_out_prop=32,\n",
    "    n_units_r=8,\n",
    "    nonlin='selu',\n",
    ")\n",
    "\n",
    "tarnet.fit(\n",
    "    X=X[:TRAIN_SIZE, :],\n",
    "    y=y[:TRAIN_SIZE],\n",
    "    w=T[:TRAIN_SIZE]\n",
    ");"
   ]
  },
  {
   "cell_type": "code",
   "execution_count": null,
   "id": "e1b1c3c9-0a72-43f9-81fe-fe1daeef9e5f",
   "metadata": {},
   "outputs": [],
   "source": [
    "# Getting Predictions\n",
    "effect_pred_tarnet = tarnet.predict(\n",
    "    X=X[TRAIN_SIZE:, :]\n",
    ").cpu().detach().numpy()"
   ]
  },
  {
   "cell_type": "code",
   "execution_count": null,
   "id": "dbfb21b5-2759-4084-a95f-0ad77101d744",
   "metadata": {},
   "outputs": [],
   "source": [
    "# Computing The Error \n",
    "\n",
    "mean_absolute_percentage_error(effect_true, effect_pred_tarnet)"
   ]
  },
  {
   "cell_type": "code",
   "execution_count": null,
   "id": "e74ec68c-5930-4cfd-a4e6-66ee17cb9001",
   "metadata": {},
   "outputs": [],
   "source": [
    "?mean_absolute_percentage_error"
   ]
  },
  {
   "cell_type": "code",
   "execution_count": null,
   "id": "24ec759f-9842-4ed9-8cbf-8895df687b89",
   "metadata": {},
   "outputs": [],
   "source": [
    "plot_effect(\n",
    "    effect_true=effect_true,\n",
    "    effect_pred=effect_pred_tarnet,\n",
    "    ylim=(-150, 250)\n",
    ")"
   ]
  },
  {
   "cell_type": "markdown",
   "id": "8134da2a-3ff5-4159-a284-a0db0994d3ca",
   "metadata": {},
   "source": [
    "### SNet"
   ]
  },
  {
   "cell_type": "code",
   "execution_count": null,
   "id": "6730f38b-1d30-4974-bf5d-6531d5bfe52e",
   "metadata": {},
   "outputs": [],
   "source": [
    "snet = SNet(\n",
    "    n_unit_in=X.shape[1],\n",
    "    binary_y=False,\n",
    "    n_units_out_prop=32,\n",
    "    n_units_r=8,\n",
    "    nonlin='selu',\n",
    ")\n",
    "\n",
    "snet.fit(\n",
    "    X=X[:TRAIN_SIZE, :],\n",
    "    y=y[:TRAIN_SIZE],\n",
    "    w=T[:TRAIN_SIZE]\n",
    ");"
   ]
  },
  {
   "cell_type": "code",
   "execution_count": null,
   "id": "8bb3daf2-8498-4152-89ef-5ab447a5a158",
   "metadata": {},
   "outputs": [],
   "source": [
    "effect_pred_snet = snet.predict(\n",
    "    X=X[TRAIN_SIZE:, :]\n",
    ").cpu().detach().numpy()"
   ]
  },
  {
   "cell_type": "code",
   "execution_count": null,
   "id": "e6c1453e-935a-4c18-a3de-a9adf44c6610",
   "metadata": {},
   "outputs": [],
   "source": [
    "# Computing The Error \n",
    "\n",
    "mean_absolute_percentage_error(effect_true, effect_pred_snet)"
   ]
  },
  {
   "cell_type": "code",
   "execution_count": null,
   "id": "e3af8483-a365-416a-b919-e19c6cb7c6ee",
   "metadata": {},
   "outputs": [],
   "source": [
    "plot_effect(\n",
    "    effect_true=effect_true,\n",
    "    effect_pred=effect_pred,\n",
    "    ylim=(-150, 250)\n",
    ")"
   ]
  },
  {
   "cell_type": "markdown",
   "id": "8d9ae61e-f7a7-4db1-a74c-0b88f7b6f294",
   "metadata": {},
   "source": [
    "### Transformers and Causal Inference\n",
    "\n",
    "#### Data"
   ]
  },
  {
   "cell_type": "code",
   "execution_count": null,
   "id": "6f559b9f-f16c-4a25-af41-1af79beeddf4",
   "metadata": {},
   "outputs": [],
   "source": [
    "# Retrieving & Reading File\n",
    "df = pd.read_csv('/Users/isisromero/desktop/causal_inference/data/manga_processed.csv')        "
   ]
  },
  {
   "cell_type": "code",
   "execution_count": null,
   "id": "608dba56-9c4d-4b87-b3f4-ee5e8c0b813d",
   "metadata": {},
   "outputs": [],
   "source": [
    "# Shuffling Observations\n",
    "\n",
    "df = df.sample(frac=1)"
   ]
  },
  {
   "cell_type": "code",
   "execution_count": null,
   "id": "4a940c0a-2a6c-45c9-ad04-2b46685340b7",
   "metadata": {},
   "outputs": [],
   "source": [
    "df.head()"
   ]
  },
  {
   "cell_type": "code",
   "execution_count": null,
   "id": "a103f733-be4d-4fe8-8211-ce9411583b9e",
   "metadata": {},
   "outputs": [],
   "source": [
    "df.shape"
   ]
  },
  {
   "cell_type": "markdown",
   "id": "1b5d9085-6126-41b2-86b4-c829f606f13a",
   "metadata": {},
   "source": [
    "#### Modeling"
   ]
  },
  {
   "cell_type": "code",
   "execution_count": 1,
   "id": "fa8ba111-e50c-473a-a012-b5899c2d16bf",
   "metadata": {},
   "outputs": [],
   "source": [
    "# Re-running the model training? Un-comment the lines below and collect garbarge to free the GPU memory\n",
    "# import gc\n",
    "# del causal_bert\n",
    "# gc.collect()\n",
    "# torch.cuda.empty_cache()\n",
    "\n",
    "# torch.cuda.is_available()"
   ]
  },
  {
   "cell_type": "code",
   "execution_count": null,
   "id": "5517e45b-4b2c-496f-8d1f-b29cd6f95d5f",
   "metadata": {},
   "outputs": [],
   "source": [
    "# Instantiating The Model\n",
    "\n",
    "causal_bert = CausalBertWrapper(\n",
    "    batch_size=8,                      \n",
    "    g_weight=0.05, \n",
    "    Q_weight=1., \n",
    "    mlm_weight=0.05\n",
    ")"
   ]
  },
  {
   "cell_type": "code",
   "execution_count": null,
   "id": "58fc98fb-6183-4c16-9140-506a91624787",
   "metadata": {},
   "outputs": [],
   "source": [
    "# Training\n",
    "causal_bert.train(\n",
    "    texts=df['text'], \n",
    "    confounds=df['has_photo'], \n",
    "    treatments=df['female_avatar'], \n",
    "    outcomes=df['upvote'], \n",
    "    epochs=6\n",
    ");"
   ]
  },
  {
   "cell_type": "code",
   "execution_count": null,
   "id": "9ff8d6b1-9ee7-4d72-b8f2-62b629ae3e25",
   "metadata": {},
   "outputs": [],
   "source": [
    "# Predicting\n",
    "preds = causal_bert.inference(\n",
    "    texts=df['text'],\n",
    "    confounds=df['has_photo'], \n",
    ")[0]"
   ]
  },
  {
   "cell_type": "code",
   "execution_count": null,
   "id": "a4bdd32c-fa7a-4dfa-86a5-93602f3e0f97",
   "metadata": {},
   "outputs": [],
   "source": [
    "# Computing ATE\n",
    "np.mean(preds[:, 1] - preds[:, 0])"
   ]
  }
 ],
 "metadata": {
  "kernelspec": {
   "display_name": "Python 3 (ipykernel)",
   "language": "python",
   "name": "python3"
  },
  "language_info": {
   "codemirror_mode": {
    "name": "ipython",
    "version": 3
   },
   "file_extension": ".py",
   "mimetype": "text/x-python",
   "name": "python",
   "nbconvert_exporter": "python",
   "pygments_lexer": "ipython3",
   "version": "3.11.5"
  }
 },
 "nbformat": 4,
 "nbformat_minor": 5
}
