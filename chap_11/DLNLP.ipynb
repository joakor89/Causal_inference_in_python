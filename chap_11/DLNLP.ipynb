{
 "cells": [
  {
   "cell_type": "markdown",
   "id": "e537f984-cd89-4f7b-8738-8f7ac80c1978",
   "metadata": {},
   "source": [
    "# Causal Inference & Machine Learning: Deep Learning, NLP and Beyond\n",
    "\n",
    "### Loading Libraries"
   ]
  },
  {
   "cell_type": "code",
   "execution_count": 6,
   "id": "f659188a-02d3-4a51-87e1-2c1c16812596",
   "metadata": {},
   "outputs": [
    {
     "ename": "ModuleNotFoundError",
     "evalue": "No module named 'models'",
     "output_type": "error",
     "traceback": [
      "\u001b[0;31m---------------------------------------------------------------------------\u001b[0m",
      "\u001b[0;31mModuleNotFoundError\u001b[0m                       Traceback (most recent call last)",
      "Cell \u001b[0;32mIn[6], line 50\u001b[0m\n\u001b[1;32m     48\u001b[0m \u001b[38;5;28;01mimport\u001b[39;00m \u001b[38;5;21;01mtorch\u001b[39;00m\n\u001b[1;32m     49\u001b[0m \u001b[38;5;28;01mfrom\u001b[39;00m \u001b[38;5;21;01mcatenets\u001b[39;00m\u001b[38;5;21;01m.\u001b[39;00m\u001b[38;5;21;01mmodels\u001b[39;00m\u001b[38;5;21;01m.\u001b[39;00m\u001b[38;5;21;01mtorch\u001b[39;00m \u001b[38;5;28;01mimport\u001b[39;00m TARNet, SNet, FlexTENet\n\u001b[0;32m---> 50\u001b[0m \u001b[38;5;28;01mfrom\u001b[39;00m \u001b[38;5;21;01mmodels\u001b[39;00m\u001b[38;5;21;01m.\u001b[39;00m\u001b[38;5;21;01mcausal_bert_pytorch\u001b[39;00m\u001b[38;5;21;01m.\u001b[39;00m\u001b[38;5;21;01mCausalBert\u001b[39;00m \u001b[38;5;28;01mimport\u001b[39;00m CausalBertWrapper\n",
      "\u001b[0;31mModuleNotFoundError\u001b[0m: No module named 'models'"
     ]
    }
   ],
   "source": [
    "# Numerical Computing\n",
    "import numpy as np\n",
    "\n",
    "# Data Manipulation\n",
    "import pandas as pd\n",
    "\n",
    "# IterTools\n",
    "from itertools import combinations\n",
    "\n",
    "# Statistical Models\n",
    "from scipy import stats\n",
    "import statsmodels.api as sm\n",
    "\n",
    "# Networkx\n",
    "import networkx as nx\n",
    "\n",
    "# JavaScript Object Notation\n",
    "import json\n",
    "\n",
    "# Data Visualization\n",
    "import graphviz\n",
    "import seaborn as sns\n",
    "import matplotlib.pyplot as plt\n",
    "\n",
    "# Scikit-Learn\n",
    "from sklearn.preprocessing import StandardScaler\n",
    "from sklearn.ensemble import GradientBoostingRegressor\n",
    "from sklearn.linear_model import LinearRegression, LogisticRegression, LassoCV\n",
    "from sklearn.metrics import mean_absolute_percentage_error\n",
    "\n",
    "\n",
    "# DoWhy Causal Libraries\n",
    "import dowhy\n",
    "from dowhy import gcm\n",
    "from dowhy import CausalModel\n",
    "from dowhy.causal_model import CausalModel\n",
    "\n",
    "# Notebook Iteration \n",
    "from tqdm import tqdm\n",
    "\n",
    "# Copy\n",
    "from copy import deepcopy\n",
    "\n",
    "# Light Gradient Boosting Models\n",
    "from lightgbm import LGBMRegressor, LGBMClassifier\n",
    "\n",
    "# PyTorch & Transformers\n",
    "import torch\n",
    "from catenets.models.torch import TARNet, SNet, FlexTENet\n",
    "from models.causal_bert_pytorch.CausalBert import CausalBertWrapper"
   ]
  },
  {
   "cell_type": "code",
   "execution_count": 4,
   "id": "b8405a1a-b848-4ebc-8320-58c478da0bb9",
   "metadata": {},
   "outputs": [
    {
     "ename": "NameError",
     "evalue": "name 'torch' is not defined",
     "output_type": "error",
     "traceback": [
      "\u001b[0;31m---------------------------------------------------------------------------\u001b[0m",
      "\u001b[0;31mNameError\u001b[0m                                 Traceback (most recent call last)",
      "Cell \u001b[0;32mIn[4], line 2\u001b[0m\n\u001b[1;32m      1\u001b[0m \u001b[38;5;66;03m# Setting Device\u001b[39;00m\n\u001b[0;32m----> 2\u001b[0m device \u001b[38;5;241m=\u001b[39m \u001b[38;5;124m'\u001b[39m\u001b[38;5;124mcuda\u001b[39m\u001b[38;5;124m'\u001b[39m \u001b[38;5;28;01mif\u001b[39;00m torch\u001b[38;5;241m.\u001b[39mcuda\u001b[38;5;241m.\u001b[39mis_available() \u001b[38;5;28;01melse\u001b[39;00m \u001b[38;5;124m'\u001b[39m\u001b[38;5;124mcpu\u001b[39m\u001b[38;5;124m'\u001b[39m\n\u001b[1;32m      3\u001b[0m device\n",
      "\u001b[0;31mNameError\u001b[0m: name 'torch' is not defined"
     ]
    }
   ],
   "source": [
    "# Setting Device\n",
    "device = 'cuda' if torch.cuda.is_available() else 'cpu'\n",
    "device"
   ]
  },
  {
   "cell_type": "code",
   "execution_count": 5,
   "id": "5ec1ba32-0529-48ae-9251-209741d88163",
   "metadata": {},
   "outputs": [],
   "source": [
    "COLORS = [\n",
    "    '#00B0F0',\n",
    "    '#FF0000',\n",
    "    '#B0F000'\n",
    "]"
   ]
  },
  {
   "cell_type": "code",
   "execution_count": null,
   "id": "05820238-73a8-402e-8235-786ab17a35ed",
   "metadata": {},
   "outputs": [],
   "source": [
    "def plot_effect(effect_true, effect_pred, figsize=(10, 7), ylim=(5000, 22000)):\n",
    "    plt.figure(figsize=figsize)\n",
    "    plt.scatter(effect_true, effect_pred, color=COLORS[0])\n",
    "    plt.plot(np.sort(effect_true), np.sort(effect_true), color=COLORS[1], alpha=.7, label='Perfect model')\n",
    "    plt.xlabel('$True\\ effect$', fontsize=14, alpha=.5)\n",
    "    plt.ylabel('$Predicted\\ effect$', fontsize=14, alpha=.5)\n",
    "    plt.ylim(ylim[0], ylim[1])\n",
    "    plt.legend()\n",
    "    plt.show()"
   ]
  },
  {
   "cell_type": "markdown",
   "id": "00471ab1-54ee-4e8f-839f-c42e73af2c70",
   "metadata": {},
   "source": [
    "#### Setting Random Seeds"
   ]
  },
  {
   "cell_type": "code",
   "execution_count": null,
   "id": "5d06c716-b53c-40de-9f6a-e34573232a0a",
   "metadata": {},
   "outputs": [],
   "source": [
    "SEED = 18\n",
    "\n",
    "np.random.seed(SEED)\n",
    "pl.seed_everything(SEED)  "
   ]
  },
  {
   "cell_type": "markdown",
   "id": "2b789bf3-dd47-47da-ab65-5261563cf922",
   "metadata": {},
   "source": [
    "### Going Deeper: Deep Learning for Heterogenous Treatment Effects\n",
    "\n",
    "#### Data"
   ]
  },
  {
   "cell_type": "code",
   "execution_count": null,
   "id": "a05763f6-3aec-4b56-b75b-bad341ae3cdf",
   "metadata": {},
   "outputs": [],
   "source": [
    "SAMPLE_SIZE = 5000\n",
    "TRAIN_SIZE = 4500\n",
    "N_FEATURES = 20\n",
    "\n",
    "X = np.random.normal(0, 1, (SAMPLE_SIZE, N_FEATURES))\n",
    "T = np.random.binomial(1, 0.5, SAMPLE_SIZE)\n",
    "\n",
    "weights = np.random.gumbel(5, 10, (SAMPLE_SIZE, N_FEATURES - 1))\n",
    "\n",
    "y = (50 * T * np.abs(X[:, 0])**1.2) + (weights * X[:, 1:]).sum(axis=1)\n",
    "\n",
    "y0 = (50 * 0 * np.abs(X[:, 0])**1.2) + (weights * X[:, 1:]).sum(axis=1)\n",
    "y1 = (50 * 1 * np.abs(X[:, 0])**1.2) + (weights * X[:, 1:]).sum(axis=1)"
   ]
  },
  {
   "cell_type": "code",
   "execution_count": null,
   "id": "a5e22c61-625f-4841-9c7c-4baddf3b9e73",
   "metadata": {},
   "outputs": [],
   "source": [
    "effect_true = y1[TRAIN_SIZE:] - y0[TRAIN_SIZE:] "
   ]
  },
  {
   "cell_type": "markdown",
   "id": "0ef0f1b8-b618-4623-96c6-e18c04a985c6",
   "metadata": {},
   "source": [
    "### S-Learner, X-Learner, DR-Learner & Causal Forest (Benchmark)"
   ]
  },
  {
   "cell_type": "code",
   "execution_count": null,
   "id": "207c3e65-07be-41ac-8359-87c92889a82c",
   "metadata": {},
   "outputs": [],
   "source": []
  }
 ],
 "metadata": {
  "kernelspec": {
   "display_name": "Python 3 (ipykernel)",
   "language": "python",
   "name": "python3"
  },
  "language_info": {
   "codemirror_mode": {
    "name": "ipython",
    "version": 3
   },
   "file_extension": ".py",
   "mimetype": "text/x-python",
   "name": "python",
   "nbconvert_exporter": "python",
   "pygments_lexer": "ipython3",
   "version": "3.11.5"
  }
 },
 "nbformat": 4,
 "nbformat_minor": 5
}
