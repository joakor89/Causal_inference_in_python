{
 "cells": [
  {
   "cell_type": "markdown",
   "id": "7bddbd3e-1661-4947-8736-320c136d2502",
   "metadata": {},
   "source": [
    "# Causal Discovery & ML - From Assumptions to Applications\n",
    "\n",
    "### Loading Libraries"
   ]
  },
  {
   "cell_type": "code",
   "execution_count": 6,
   "id": "2a6b8796-1f61-4fd4-b05e-7a1751c6616f",
   "metadata": {},
   "outputs": [],
   "source": [
    "# Numerical Computing\n",
    "import numpy as np\n",
    "\n",
    "# Data Manipulation\n",
    "import pandas as pd\n",
    "\n",
    "# IterTools\n",
    "from itertools import combinations\n",
    "\n",
    "# Statistical Models\n",
    "from scipy import stats\n",
    "import statsmodels.api as sm\n",
    "\n",
    "# Networkx\n",
    "import networkx as nx\n",
    "\n",
    "# JavaScript Object Notation\n",
    "import json\n",
    "\n",
    "# Data Visualization\n",
    "import graphviz\n",
    "import seaborn as sns\n",
    "import matplotlib.pyplot as plt\n",
    "\n",
    "# Scikit-Learn\n",
    "from sklearn.preprocessing import StandardScaler\n",
    "from sklearn.ensemble import GradientBoostingRegressor\n",
    "from sklearn.linear_model import LinearRegression, LogisticRegression, LassoCV\n",
    "from sklearn.metrics import mean_absolute_percentage_error\n",
    "\n",
    "# Castle\n",
    "import castle\n",
    "from castle.common import GraphDAG\n",
    "from castle.metrics import MetricsDAG\n",
    "from castle.datasets import DAG, IIDSimulation \n",
    "\n",
    "from castle.algorithms import PC, GES\n",
    "from castle.algorithms import ANMNonlinear, ICALiNGAM, DirectLiNGAM\n",
    "from castle.algorithms import Notears, NotearsNonlinear, GOLEM\n",
    "\n",
    "from castle.common.priori_knowledge import PrioriKnowledge\n",
    "\n",
    "from castle.common.independence_tests import hsic_test\n",
    "\n",
    "# PyTorch & Transformers\n",
    "import torch\n",
    "\n",
    "# DoWhy Causal Libraries\n",
    "import dowhy\n",
    "from dowhy import gcm\n",
    "from dowhy import CausalModel\n",
    "from dowhy.causal_model import CausalModel\n",
    "\n",
    "# Notebook Iteration \n",
    "from tqdm import tqdm\n",
    "\n",
    "# Operating Systems & Environments\n",
    "import os\n",
    "os.environ['CASTLE_BACKEND'] = 'pytorch'\n",
    "\n",
    "# Copy\n",
    "from copy import deepcopy\n",
    "\n",
    "# Light Gradient Boosting Models\n",
    "from lightgbm import LGBMRegressor, LGBMClassifier"
   ]
  },
  {
   "cell_type": "markdown",
   "id": "480e5ce4-7f3e-4b26-83d7-348dc659c25e",
   "metadata": {},
   "source": [
    "#### Setting Viz Standards"
   ]
  },
  {
   "cell_type": "code",
   "execution_count": 7,
   "id": "57d628fe-73e4-4197-af44-77579041cbae",
   "metadata": {},
   "outputs": [],
   "source": [
    "COLORS = [\n",
    "    '#00B0F0',\n",
    "    '#FF0000',\n",
    "    '#B0F000'\n",
    "]"
   ]
  },
  {
   "cell_type": "markdown",
   "id": "07934f73-5728-4a20-b06c-b4c1ffdfe332",
   "metadata": {},
   "source": [
    "#### Setting Seeds"
   ]
  },
  {
   "cell_type": "code",
   "execution_count": 8,
   "id": "dd4d2607-9b7a-4237-9e03-4ec9da3ea489",
   "metadata": {},
   "outputs": [],
   "source": [
    "# Set random seed\n",
    "SEED = 18\n",
    "\n",
    "np.random.seed(SEED)"
   ]
  },
  {
   "cell_type": "markdown",
   "id": "961a39ac-ba3c-4416-b2a7-ab27c9cb541b",
   "metadata": {},
   "source": [
    "## Introduction to gCastle\n",
    "\n",
    "### Synthetic Data in gCastle"
   ]
  },
  {
   "cell_type": "code",
   "execution_count": 10,
   "id": "3aed21be-b807-45ce-9f95-8383de405b9a",
   "metadata": {},
   "outputs": [],
   "source": [
    "# Generate a scale-free adjacency matrix\n",
    "adj_matrix = DAG.scale_free(\n",
    "    n_nodes=10,\n",
    "    n_edges=17,\n",
    "    seed=SEED\n",
    ")"
   ]
  },
  {
   "cell_type": "code",
   "execution_count": null,
   "id": "d79d3e4c-2d85-40e8-9c62-711128a2aa2b",
   "metadata": {},
   "outputs": [],
   "source": []
  }
 ],
 "metadata": {
  "kernelspec": {
   "display_name": "Python 3 (ipykernel)",
   "language": "python",
   "name": "python3"
  },
  "language_info": {
   "codemirror_mode": {
    "name": "ipython",
    "version": 3
   },
   "file_extension": ".py",
   "mimetype": "text/x-python",
   "name": "python",
   "nbconvert_exporter": "python",
   "pygments_lexer": "ipython3",
   "version": "3.11.5"
  }
 },
 "nbformat": 4,
 "nbformat_minor": 5
}
