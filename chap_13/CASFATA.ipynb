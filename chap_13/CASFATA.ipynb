{
 "cells": [
  {
   "cell_type": "markdown",
   "id": "7bddbd3e-1661-4947-8736-320c136d2502",
   "metadata": {},
   "source": [
    "# Causal Discovery & ML - From Assumptions to Applications\n",
    "\n",
    "### Loading Libraries"
   ]
  },
  {
   "cell_type": "code",
   "execution_count": 1,
   "id": "2a6b8796-1f61-4fd4-b05e-7a1751c6616f",
   "metadata": {},
   "outputs": [
    {
     "name": "stderr",
     "output_type": "stream",
     "text": [
      "2024-08-27 08:36:18,717 - /Users/isisromero/anaconda3/envs/CAUSINF/lib/python3.11/site-packages/castle/backend/__init__.py[line:36] - INFO: You can use `os.environ['CASTLE_BACKEND'] = backend` to set the backend(`pytorch` or `mindspore`).\n",
      "2024-08-27 08:36:18,734 - /Users/isisromero/anaconda3/envs/CAUSINF/lib/python3.11/site-packages/castle/algorithms/__init__.py[line:36] - INFO: You are using ``pytorch`` as the backend.\n"
     ]
    }
   ],
   "source": [
    "# Numerical Computing\n",
    "import numpy as np\n",
    "\n",
    "# Data Manipulation\n",
    "import pandas as pd\n",
    "\n",
    "# IterTools\n",
    "from itertools import combinations\n",
    "\n",
    "# Statistical Models\n",
    "from scipy import stats\n",
    "import statsmodels.api as sm\n",
    "\n",
    "# Networkx\n",
    "import networkx as nx\n",
    "\n",
    "# JavaScript Object Notation\n",
    "import json\n",
    "\n",
    "# Data Visualization\n",
    "import graphviz\n",
    "import seaborn as sns\n",
    "import matplotlib.pyplot as plt\n",
    "\n",
    "# Scikit-Learn\n",
    "from sklearn.preprocessing import StandardScaler\n",
    "from sklearn.ensemble import GradientBoostingRegressor\n",
    "from sklearn.linear_model import LinearRegression, LogisticRegression, LassoCV\n",
    "from sklearn.metrics import mean_absolute_percentage_error\n",
    "\n",
    "# Castle\n",
    "import castle\n",
    "from castle.common import GraphDAG\n",
    "from castle.metrics import MetricsDAG\n",
    "from castle.datasets import DAG, IIDSimulation \n",
    "\n",
    "from castle.algorithms import PC, GES\n",
    "from castle.algorithms import ANMNonlinear, ICALiNGAM, DirectLiNGAM\n",
    "from castle.algorithms import Notears, NotearsNonlinear, GOLEM\n",
    "\n",
    "from castle.common.priori_knowledge import PrioriKnowledge\n",
    "\n",
    "from castle.common.independence_tests import hsic_test\n",
    "\n",
    "# PyTorch & Transformers\n",
    "import torch\n",
    "\n",
    "# DoWhy Causal Libraries\n",
    "import dowhy\n",
    "from dowhy import gcm\n",
    "from dowhy import CausalModel\n",
    "from dowhy.causal_model import CausalModel\n",
    "\n",
    "# Notebook Iteration \n",
    "from tqdm import tqdm\n",
    "\n",
    "# Operating Systems & Environments\n",
    "import os\n",
    "os.environ['CASTLE_BACKEND'] = 'pytorch'\n",
    "\n",
    "# Copy\n",
    "from copy import deepcopy\n",
    "\n",
    "# Light Gradient Boosting Models\n",
    "from lightgbm import LGBMRegressor, LGBMClassifier"
   ]
  },
  {
   "cell_type": "markdown",
   "id": "480e5ce4-7f3e-4b26-83d7-348dc659c25e",
   "metadata": {},
   "source": [
    "#### Setting Viz Standards"
   ]
  },
  {
   "cell_type": "code",
   "execution_count": 2,
   "id": "57d628fe-73e4-4197-af44-77579041cbae",
   "metadata": {},
   "outputs": [],
   "source": [
    "COLORS = [\n",
    "    '#00B0F0',\n",
    "    '#FF0000',\n",
    "    '#B0F000'\n",
    "]"
   ]
  },
  {
   "cell_type": "markdown",
   "id": "07934f73-5728-4a20-b06c-b4c1ffdfe332",
   "metadata": {},
   "source": [
    "#### Setting Seeds"
   ]
  },
  {
   "cell_type": "code",
   "execution_count": 3,
   "id": "dd4d2607-9b7a-4237-9e03-4ec9da3ea489",
   "metadata": {},
   "outputs": [],
   "source": [
    "# Set random seed\n",
    "SEED = 18\n",
    "\n",
    "np.random.seed(SEED)"
   ]
  },
  {
   "cell_type": "markdown",
   "id": "961a39ac-ba3c-4416-b2a7-ab27c9cb541b",
   "metadata": {},
   "source": [
    "## Introduction to gCastle\n",
    "\n",
    "### Synthetic Data in gCastle"
   ]
  },
  {
   "cell_type": "code",
   "execution_count": 9,
   "id": "3aed21be-b807-45ce-9f95-8383de405b9a",
   "metadata": {},
   "outputs": [],
   "source": [
    "# Generate a scale-free adjacency matrix\n",
    "adj_matrix = DAG.scale_free(\n",
    "    n_nodes=10,\n",
    "    n_edges=17,\n",
    "    seed=SEED\n",
    ")"
   ]
  },
  {
   "cell_type": "code",
   "execution_count": 10,
   "id": "d79d3e4c-2d85-40e8-9c62-711128a2aa2b",
   "metadata": {},
   "outputs": [],
   "source": [
    "adj_matrix"
   ]
  },
  {
   "cell_type": "code",
   "execution_count": 13,
   "id": "0bef4e1d-0420-4202-a8c7-ed4698034ba5",
   "metadata": {},
   "outputs": [],
   "source": [
    "# Visualize the adjacency matrix\n",
    "g = nx.DiGraph(adj_matrix)\n",
    "\n",
    "plt.figure(figsize=(12, 8))\n",
    "nx.draw(\n",
    "    G=g,\n",
    "    node_color=COLORS[0],\n",
    "    node_size=1200,\n",
    "    arrowsize=17,\n",
    "    with_labels=True,\n",
    "    font_color='white',\n",
    "    font_size=21,\n",
    "    pos=nx.circular_layout(g)\n",
    ")"
   ]
  },
  {
   "cell_type": "code",
   "execution_count": 14,
   "id": "c14c9a33-1fb5-4d5b-ac6e-3a7ff3189863",
   "metadata": {},
   "outputs": [],
   "source": [
    "dataset = IIDSimulation(\n",
    "    W=adj_matrix, \n",
    "    n=10000, \n",
    "    method='linear', \n",
    "    sem_type='gauss'\n",
    ")"
   ]
  },
  {
   "cell_type": "code",
   "execution_count": 15,
   "id": "5a4857e2-c113-4cac-865a-71bcf7e2795b",
   "metadata": {},
   "outputs": [],
   "source": [
    "# Access the generated data\n",
    "dataset.X"
   ]
  },
  {
   "cell_type": "markdown",
   "id": "0cc5f45d-2659-4773-9e90-f8d6539e4990",
   "metadata": {},
   "source": [
    "### Fitting a First Causal Discovery Model"
   ]
  },
  {
   "cell_type": "code",
   "execution_count": null,
   "id": "3a9576d3-841f-49e0-907b-0a38ca943522",
   "metadata": {},
   "outputs": [],
   "source": [
    "# Instantiate the model\n",
    "pc = PC()"
   ]
  },
  {
   "cell_type": "code",
   "execution_count": null,
   "id": "a8d6ed21-fb0a-4c10-bbf9-51980e169d3a",
   "metadata": {},
   "outputs": [],
   "source": [
    "# Fit the model\n",
    "pc.learn(dataset.X)"
   ]
  },
  {
   "cell_type": "code",
   "execution_count": null,
   "id": "ccf02880-786d-4dfd-83d1-67153f2aebb8",
   "metadata": {},
   "outputs": [],
   "source": [
    "pred_dag = pc.causal_matrix\n",
    "pred_dag"
   ]
  },
  {
   "cell_type": "markdown",
   "id": "b4ecd88f-8af7-4024-849b-04ab780d7e4d",
   "metadata": {},
   "source": [
    "#### Visualizing The Model"
   ]
  },
  {
   "cell_type": "code",
   "execution_count": null,
   "id": "4304150b-2ac2-4190-83be-5c7e99bab9ca",
   "metadata": {},
   "outputs": [],
   "source": [
    "g_pred = nx.DiGraph(pred_dag)\n",
    "\n",
    "plt.figure(figsize=(12, 8))\n",
    "nx.draw(\n",
    "    G=g_pred,\n",
    "    node_color=COLORS[0],\n",
    "    node_size=1200,\n",
    "    arrowsize=17,\n",
    "    with_labels=True,\n",
    "    font_color='white',\n",
    "    font_size=21,\n",
    "    pos=nx.circular_layout(g)\n",
    ")"
   ]
  },
  {
   "cell_type": "code",
   "execution_count": null,
   "id": "bb900f27-2149-425c-aa2a-413d8331ae97",
   "metadata": {},
   "outputs": [],
   "source": [
    "GraphDAG(\n",
    "    est_dag=pred_dag, \n",
    "    true_dag=adj_matrix)\n",
    "\n",
    "plt.show()"
   ]
  },
  {
   "cell_type": "markdown",
   "id": "50747371-b7ab-44fd-8007-8269ac51d85a",
   "metadata": {},
   "source": [
    "#### Model Evaluation Metrics"
   ]
  },
  {
   "cell_type": "code",
   "execution_count": null,
   "id": "31764559-53bf-4105-a74d-f3bb496f35ae",
   "metadata": {},
   "outputs": [],
   "source": [
    "metrics = MetricsDAG(\n",
    "    B_est=pred_dag, \n",
    "    B_true=adj_matrix)"
   ]
  },
  {
   "cell_type": "code",
   "execution_count": null,
   "id": "4c528e79-fcf8-49d8-9f50-d7d973c1641c",
   "metadata": {},
   "outputs": [],
   "source": [
    "metrics.metrics['F1']"
   ]
  },
  {
   "cell_type": "code",
   "execution_count": null,
   "id": "c8f61c74-e617-4b60-9667-3cec77c2b02f",
   "metadata": {},
   "outputs": [],
   "source": [
    "metrics.metrics"
   ]
  },
  {
   "cell_type": "code",
   "execution_count": null,
   "id": "8848620f-4b67-48cd-b756-7d910747fbb7",
   "metadata": {},
   "outputs": [],
   "source": [
    "\t\n",
    "def get_n_undirected(g):\n",
    "    \n",
    "    total = 0\n",
    "    \n",
    "    for i in range(g.shape[0]):\n",
    "        for j in range(g.shape[0]):\n",
    "            if (g[i, j] == 1) and (g[i, j] == g[j, i]):\n",
    "                total += .5\n",
    "    \n",
    "    return total"
   ]
  },
  {
   "cell_type": "code",
   "execution_count": null,
   "id": "380a54cd-00c2-4cf2-973a-9bcbc9a9a3dd",
   "metadata": {},
   "outputs": [],
   "source": [
    "get_n_undirected(pred_dag)"
   ]
  },
  {
   "cell_type": "code",
   "execution_count": null,
   "id": "c8c05585-38d9-4bc9-9847-d326e47e7aeb",
   "metadata": {},
   "outputs": [],
   "source": [
    "np.tril(pred_dag)"
   ]
  },
  {
   "cell_type": "markdown",
   "id": "c0532d41-3e1b-46ee-87b9-210df2b74ca9",
   "metadata": {},
   "source": [
    "### Constraint-Based Causal Discovery"
   ]
  },
  {
   "cell_type": "code",
   "execution_count": null,
   "id": "bb810b71-d482-4d8f-b379-e1d7a413f84d",
   "metadata": {},
   "outputs": [],
   "source": [
    "# Build a DAG adj matrix\n",
    "pc_dag = np.array([\n",
    "    [0, 0, 1, 0],\n",
    "    [0, 0, 1, 0],\n",
    "    [0, 0, 0, 1],\n",
    "    [0, 0, 0, 0]\n",
    "])"
   ]
  },
  {
   "cell_type": "code",
   "execution_count": null,
   "id": "f6b5e00f-d191-4f86-9737-729ce6c48699",
   "metadata": {},
   "outputs": [],
   "source": [
    "# Generate data from this DAG\n",
    "N = 1000\n",
    "\n",
    "p = np.random.randn(N)\n",
    "q = np.random.randn(N)\n",
    "\n",
    "r = p + q + .1 * np.random.randn(N)\n",
    "s = .7 * r + .1 * np.random.randn(N)\n",
    "\n",
    "# To matrix\n",
    "pc_dataset = np.vstack([p, q, r, s]).T"
   ]
  },
  {
   "cell_type": "code",
   "execution_count": null,
   "id": "d274e5b3-7102-454b-a74b-0b78f7dca53d",
   "metadata": {},
   "outputs": [],
   "source": [
    "# Plot the original graph\n",
    "\n",
    "# Get learned graph\n",
    "true_graph = nx.DiGraph(pc_dag)\n",
    "\n",
    "# Relabel the nodes\n",
    "MAPPING = {k: v for k, v in zip(range(4), ['P', 'Q', 'R', 'S'])}\n",
    "true_graph = nx.relabel_nodes(true_graph, MAPPING, copy=True)\n",
    "\n",
    "plt.figure(figsize=(7, 3))\n",
    "nx.draw(\n",
    "    G=true_graph,\n",
    "    node_color=COLORS[0],\n",
    "    node_size=1200,\n",
    "    arrowsize=17,\n",
    "    with_labels=True,\n",
    "    font_color='white',\n",
    "    font_size=21,\n",
    "    pos=nx.circular_layout(true_graph)\n",
    ")"
   ]
  },
  {
   "cell_type": "markdown",
   "id": "3af0791c-e2e0-44a7-8497-717864d9236d",
   "metadata": {},
   "source": [
    "### PC"
   ]
  },
  {
   "cell_type": "code",
   "execution_count": null,
   "id": "9cf031df-97b7-479a-add9-f5293865cd75",
   "metadata": {},
   "outputs": [],
   "source": [
    "# Initialize PC\n",
    "pc = PC()\n",
    "\n",
    "# Fit \n",
    "pc.learn(pc_dataset)\n",
    "\n",
    "# Display the learned matrix\n",
    "pc.causal_matrix"
   ]
  },
  {
   "cell_type": "code",
   "execution_count": null,
   "id": "1bf89693-f708-482d-8cc4-3d76d11d30b9",
   "metadata": {},
   "outputs": [],
   "source": [
    "# Visualize\n",
    "GraphDAG(\n",
    "    est_dag=pc.causal_matrix, \n",
    "    true_dag=pc_dag)\n",
    "\n",
    "plt.show()"
   ]
  },
  {
   "cell_type": "code",
   "execution_count": null,
   "id": "d492de21-5e45-42a2-b5ec-ee3b96da1046",
   "metadata": {},
   "outputs": [],
   "source": [
    "# Get metrics\n",
    "MetricsDAG(\n",
    "    B_est=pc.causal_matrix,\n",
    "    B_true=pc_dag\n",
    ").metrics"
   ]
  },
  {
   "cell_type": "markdown",
   "id": "d9d42909-f1f5-4300-9607-542eb47074ea",
   "metadata": {},
   "source": [
    "### PC-Stable"
   ]
  },
  {
   "cell_type": "code",
   "execution_count": 2,
   "id": "4bdf6c99-6411-4f83-b9ea-86bf2f2fa73b",
   "metadata": {},
   "outputs": [],
   "source": [
    "# PC-stable\n",
    "pc_stable = PC(variant='stable')\n",
    "\n",
    "# Fit \n",
    "pc_stable.learn(pc_dataset)\n",
    "\n",
    "# Visualize\n",
    "GraphDAG(\n",
    "    est_dag=pc_stable.causal_matrix, \n",
    "    true_dag=pc_dag)\n",
    "\n",
    "plt.show()"
   ]
  },
  {
   "cell_type": "markdown",
   "id": "1601b2df-6121-4122-94c5-5cb519ae5f75",
   "metadata": {},
   "source": [
    "### PC-Parallel"
   ]
  },
  {
   "cell_type": "code",
   "execution_count": null,
   "id": "9d06ddec-cd34-4b0a-bee4-a5cbaa0dc3f6",
   "metadata": {},
   "outputs": [],
   "source": [
    "# PC-stable\n",
    "pc_parallel = PC(variant='parallel')\n",
    "\n",
    "# Fit \n",
    "pc_parallel.learn(pc_dataset)\n",
    "\n",
    "# Visualize\n",
    "GraphDAG(\n",
    "    est_dag=pc_parallel.causal_matrix, \n",
    "    true_dag=pc_dag)\n",
    "\n",
    "plt.show()"
   ]
  },
  {
   "cell_type": "markdown",
   "id": "59a63354-8b10-4f21-858d-bb416dcf3300",
   "metadata": {},
   "source": [
    "### PC with Categorical Data"
   ]
  },
  {
   "cell_type": "code",
   "execution_count": null,
   "id": "4d1597a5-d69e-4656-bea4-5b8be1b10a7b",
   "metadata": {},
   "outputs": [],
   "source": [
    "# Generate the data\n",
    "a = np.random.binomial(4, .5, N)\n",
    "b = np.random.binomial(4, .5, N)\n",
    "c = ((a + b + np.random.normal(0, 1, N)) > 2).astype(int)\n",
    "\n",
    "# To matrix\n",
    "pc_cat_dataset = np.vstack([a, b, c]).T"
   ]
  },
  {
   "cell_type": "code",
   "execution_count": null,
   "id": "f5d0fb7e-9f95-4f8f-9658-5ce39824a170",
   "metadata": {},
   "outputs": [],
   "source": [
    "pc_cat = PC(ci_test='chi2')"
   ]
  },
  {
   "cell_type": "code",
   "execution_count": null,
   "id": "a6436f3d-fd9a-43be-88a6-18bb1c2733e4",
   "metadata": {},
   "outputs": [],
   "source": [
    "pc_cat.learn(pc_cat_dataset)"
   ]
  },
  {
   "cell_type": "code",
   "execution_count": null,
   "id": "8bc017f9-4766-4fce-8ef5-e7b345b382ef",
   "metadata": {},
   "outputs": [],
   "source": [
    "pc_cat.causal_matrix"
   ]
  },
  {
   "cell_type": "markdown",
   "id": "17ba9e1e-32a4-48b1-9b97-45cdbb5b6006",
   "metadata": {},
   "source": [
    "### PC with Alternative Independence Tests"
   ]
  },
  {
   "cell_type": "code",
   "execution_count": null,
   "id": "21e41de7-e145-43fb-ae93-7638bd0a6d63",
   "metadata": {},
   "outputs": [],
   "source": [
    "from castle.common.independence_tests import CITest"
   ]
  },
  {
   "cell_type": "code",
   "execution_count": null,
   "id": "83458f3e-98dd-449d-b3b9-2f5bb29e65e8",
   "metadata": {},
   "outputs": [],
   "source": [
    "pc_cat_alt = PC(ci_test=CITest.cressie_read)"
   ]
  },
  {
   "cell_type": "code",
   "execution_count": null,
   "id": "d5819501-642b-45d4-86de-2654ed5776da",
   "metadata": {},
   "outputs": [],
   "source": [
    "pc_cat_alt.learn(pc_cat_dataset)"
   ]
  },
  {
   "cell_type": "code",
   "execution_count": null,
   "id": "273b1c27-6fb0-4868-9eab-f6a7ce7d4561",
   "metadata": {},
   "outputs": [],
   "source": [
    "pc_cat_alt.causal_matrix"
   ]
  },
  {
   "cell_type": "markdown",
   "id": "f05f18ab-b242-461c-8936-0b6ee28ef40b",
   "metadata": {},
   "source": [
    "### Score-Based Causal Discovery"
   ]
  },
  {
   "cell_type": "code",
   "execution_count": null,
   "id": "4c331f7f-8ed5-49de-b622-c20185974e88",
   "metadata": {},
   "outputs": [],
   "source": [
    "# Instantiate GES\n",
    "ges = GES(criterion='bic')"
   ]
  },
  {
   "cell_type": "code",
   "execution_count": null,
   "id": "c5ea01f2-fef4-4ce9-a5f8-ddfc18122411",
   "metadata": {},
   "outputs": [],
   "source": [
    "# Train\n",
    "ges.learn(pc_dataset)"
   ]
  },
  {
   "cell_type": "code",
   "execution_count": null,
   "id": "5b420359-f787-4e1e-b2b5-89407848fe13",
   "metadata": {},
   "outputs": [],
   "source": [
    "# Visualize\n",
    "GraphDAG(\n",
    "    est_dag=ges.causal_matrix, \n",
    "    true_dag=pc_dag)\n",
    "\n",
    "plt.show()"
   ]
  },
  {
   "cell_type": "markdown",
   "id": "966891ef-6de8-481f-a9d9-ff100347d558",
   "metadata": {},
   "source": [
    "## Function-Based Casual Discovery\n",
    "\n",
    "### ANM Model (from scratch)"
   ]
  },
  {
   "cell_type": "code",
   "execution_count": null,
   "id": "d2a6e1e4-17d0-4616-90e7-85a158c18436",
   "metadata": {},
   "outputs": [],
   "source": [
    "# Define helpers\n",
    "from pygam import LinearGAM\n",
    "\n",
    "\n",
    "class GAM:\n",
    "    \n",
    "    def __init__(self, n_splines):\n",
    "        self.n_splines = n_splines\n",
    "        \n",
    "    def fit(self, x, y):\n",
    "        # Check `x` dimensionality\n",
    "        x = np.array(x)\n",
    "        assert len(x.shape) == 2, f'`x` should be 2D array. Received {len(x.shape)} dimensional array.'\n",
    "        \n",
    "        # Fit the model\n",
    "        self.model = LinearGAM(n_splines=self.n_splines).gridsearch(x, y) \n",
    "        \n",
    "    def predict(self, x):\n",
    "        return self.model.predict(x)"
   ]
  },
  {
   "cell_type": "code",
   "execution_count": null,
   "id": "89473d20-9a0d-4ee2-b90e-ac2fc083e4cc",
   "metadata": {},
   "outputs": [],
   "source": [
    "# Create data\n",
    "x = np.random.randn(1000)\n",
    "y = x**3 + np.random.randn(1000)"
   ]
  },
  {
   "cell_type": "code",
   "execution_count": null,
   "id": "45875058-0d77-42a9-9ce2-06eaee08e188",
   "metadata": {},
   "outputs": [],
   "source": [
    "# Plot data\n",
    "plt.style.use('fivethirtyeight')\n",
    "\n",
    "plt.figure(figsize=(10, 7))\n",
    "\n",
    "plt.scatter(x, y, alpha=.5, color=COLORS[0])\n",
    "\n",
    "plt.xlabel('$X$')\n",
    "plt.ylabel('$Y$')\n",
    "\n",
    "plt.show()"
   ]
  },
  {
   "cell_type": "code",
   "execution_count": null,
   "id": "ff70b05d-1309-45e2-b6d8-7759bc6eb5e4",
   "metadata": {},
   "outputs": [],
   "source": [
    "# Define params\n",
    "n_splines = 150\n",
    "\n",
    "# Instantiate the models \n",
    "model_xy = GAM(n_splines=n_splines)\n",
    "model_yx = GAM(n_splines=n_splines)\n",
    "\n",
    "# Fit the models\n",
    "model_xy.fit(x.reshape(-1, 1), y)\n",
    "model_yx.fit(y.reshape(-1, 1), x)\n",
    "\n",
    "# Generate predictions\n",
    "y_pred = model_xy.predict(x.reshape(-1, 1))\n",
    "x_pred = model_yx.predict(y.reshape(-1, 1))"
   ]
  },
  {
   "cell_type": "code",
   "execution_count": null,
   "id": "ab8af10f-5ada-41f8-92e6-4fe0e828cd36",
   "metadata": {},
   "outputs": [],
   "source": [
    "# Visualize the fitted model\n",
    "plt.figure(figsize=(10, 7))\n",
    "plt.scatter(x, y, alpha=.5, color=COLORS[0], label='Data')\n",
    "plt.scatter(x, y_pred, alpha=.5, color=COLORS[1], label='Causal model')\n",
    "plt.scatter(x_pred, y, alpha=.5, color=COLORS[2], label='Anti-causal model')\n",
    "plt.legend()\n",
    "plt.show()"
   ]
  },
  {
   "cell_type": "code",
   "execution_count": null,
   "id": "0a5247a3-45ce-49e8-8150-44464a1c4e81",
   "metadata": {},
   "outputs": [],
   "source": [
    "# Get the residuals\n",
    "residuals_xy = y - y_pred\n",
    "residuals_yx = x - x_pred"
   ]
  },
  {
   "cell_type": "code",
   "execution_count": null,
   "id": "1e4fedc3-76af-43f2-b3ff-870da2ed0431",
   "metadata": {},
   "outputs": [],
   "source": [
    "plt.figure(figsize=(15, 7))\n",
    "plt.subplot(121)\n",
    "plt.scatter(x, residuals_xy, alpha=.5, color=COLORS[0])\n",
    "plt.xlabel('$X$', fontsize=14)\n",
    "plt.ylabel('$Y-residuals$', fontsize=14)\n",
    "\n",
    "plt.subplot(122)\n",
    "plt.scatter(residuals_yx, y, alpha=.5, color=COLORS[0])\n",
    "plt.xlabel('$X-residuals$', fontsize=14)\n",
    "plt.ylabel('$Y$', fontsize=14)\n",
    "\n",
    "plt.show()"
   ]
  },
  {
   "cell_type": "code",
   "execution_count": null,
   "id": "f3275f61-920a-4c43-ad48-88fd88d6dc08",
   "metadata": {},
   "outputs": [],
   "source": [
    "# Compute HSIC\n",
    "is_indep_xy = hsic_test(\n",
    "    x = x.reshape(-1, 1), \n",
    "    y = residuals_xy.reshape(-1, 1),\n",
    "    alpha=.05\n",
    ") \n",
    "\n",
    "is_indep_yx = hsic_test(\n",
    "    x = y.reshape(-1, 1), \n",
    "    y = residuals_yx.reshape(-1, 1),\n",
    "    alpha=.05\n",
    ")"
   ]
  },
  {
   "cell_type": "code",
   "execution_count": null,
   "id": "47f2443f-d793-4aa4-bd24-86db0bdbac23",
   "metadata": {},
   "outputs": [],
   "source": [
    "is_indep_xy, is_indep_yx"
   ]
  },
  {
   "cell_type": "markdown",
   "id": "77ced2f3-2cf0-4ae2-8c84-924d6d4480ac",
   "metadata": {},
   "source": [
    "### ANM model (gCastle)"
   ]
  },
  {
   "cell_type": "code",
   "execution_count": null,
   "id": "2d27048f-c7f8-448f-8176-7b8c24879e44",
   "metadata": {},
   "outputs": [],
   "source": [
    "# Instantiate \n",
    "anm = ANMNonlinear(alpha=.1)"
   ]
  },
  {
   "cell_type": "code",
   "execution_count": null,
   "id": "913e3abe-7507-45d6-a750-582ae42511bd",
   "metadata": {},
   "outputs": [],
   "source": [
    "# Train\n",
    "nonlinear_dataset = np.vstack([x, y]).T\n",
    "anm.learn(nonlinear_dataset)"
   ]
  },
  {
   "cell_type": "code",
   "execution_count": null,
   "id": "d406ed4e-afe3-4d9f-9acc-2caa37394dbb",
   "metadata": {},
   "outputs": [],
   "source": [
    "anm.causal_matrix"
   ]
  },
  {
   "cell_type": "markdown",
   "id": "d8de5e3e-f744-4ff7-99da-cf95bfd83e43",
   "metadata": {},
   "source": [
    "## LiNGAM Time!"
   ]
  },
  {
   "cell_type": "code",
   "execution_count": null,
   "id": "5f699299-2fe1-4ff0-83a3-eede16ef3131",
   "metadata": {},
   "outputs": [],
   "source": [
    "# Generate data\n",
    "SAMPLE_SIZE = 1000\n",
    "\n",
    "x_gauss = np.random.normal(0, 1, SAMPLE_SIZE)\n",
    "y_gauss = x_gauss + 0.3 * np.random.normal(0, 1, SAMPLE_SIZE)\n",
    "\n",
    "x_ngauss = np.random.uniform(0, 1, SAMPLE_SIZE)\n",
    "y_ngauss = x_ngauss + 0.3 * np.random.uniform(0, 1, SAMPLE_SIZE)"
   ]
  },
  {
   "cell_type": "code",
   "execution_count": null,
   "id": "1ecf05e4-f8e2-42de-b12b-99b379251441",
   "metadata": {},
   "outputs": [],
   "source": [
    "# Fit regressions \n",
    "results = {}\n",
    "\n",
    "for name, v in zip(['Gaussian', 'non-Gaussian'], [(x_gauss, y_gauss), (x_ngauss, y_ngauss)]):\n",
    "    \n",
    "    for direction in ['y ~ x', 'x ~ y']:   \n",
    "        \n",
    "        predictor_idx = 0\n",
    "        target_idx = 1\n",
    "        \n",
    "        if direction.startswith('x'):\n",
    "            predictor_idx, target_idx = target_idx, predictor_idx\n",
    "\n",
    "        key = f'{name} | {direction}'\n",
    "        print(key)\n",
    "        \n",
    "        # Fit the model\n",
    "        lr = LinearRegression()\n",
    "        lr.fit(v[predictor_idx].reshape(-1, 1), v[target_idx])\n",
    "        \n",
    "        # Predict\n",
    "        preds = lr.predict(v[predictor_idx].reshape(-1, 1))\n",
    "        \n",
    "        # Compute residuals\n",
    "        residuals = v[target_idx] - preds\n",
    "        \n",
    "        results[key] = preds, residuals"
   ]
  },
  {
   "cell_type": "code",
   "execution_count": null,
   "id": "dc221d96-dde6-4998-aed5-908150ef81ef",
   "metadata": {},
   "outputs": [],
   "source": [
    "ALPHA = .3\n",
    "\n",
    "# Plot the data\n",
    "plt.figure(figsize=(20, 10))\n",
    "\n",
    "# Plot X vs Y + regression lines\n",
    "plt.subplot(241)\n",
    "plt.scatter(x_gauss, y_gauss, label='Linear Gaussian', alpha=ALPHA, color=COLORS[0])\n",
    "plt.plot(x_gauss, results['Gaussian | y ~ x'][0], color=COLORS[1], label='Fitted model')\n",
    "plt.legend()\n",
    "plt.ylabel('$Y$', alpha=.7, fontsize=14)\n",
    "plt.title('Raw data\\nY ~ X')\n",
    "\n",
    "plt.subplot(245)\n",
    "plt.scatter(x_ngauss, y_ngauss, label='Linear non-Gaussian', alpha=ALPHA, color=COLORS[0])\n",
    "plt.plot(x_ngauss, results['non-Gaussian | y ~ x'][0], color=COLORS[1], label='Fitted model')\n",
    "plt.xlabel('$X$', alpha=.7, fontsize=14)\n",
    "plt.ylabel('$Y$', alpha=.7, fontsize=14)\n",
    "plt.legend()\n",
    "\n",
    "\n",
    "# Plot residuals Y ~ X\n",
    "plt.subplot(242)\n",
    "plt.scatter(x_gauss, results['Gaussian | y ~ x'][1], label='Linear Gaussian', color=COLORS[0], alpha=ALPHA)\n",
    "plt.legend()\n",
    "plt.ylabel('$Y - \\hat{Y}$', alpha=.7, fontsize=14)\n",
    "plt.xlabel('$X$', alpha=.7, fontsize=14)\n",
    "plt.title('Residuals\\nY ~ X')\n",
    "\n",
    "plt.subplot(246)\n",
    "plt.scatter(x_ngauss, results['non-Gaussian | y ~ x'][1], label='Linear non-Gaussian', color=COLORS[0], alpha=ALPHA)\n",
    "plt.legend()\n",
    "plt.ylabel('$Y - \\hat{Y}$', alpha=.7, fontsize=14)\n",
    "plt.xlabel('$X$', alpha=.7, fontsize=14)\n",
    "\n",
    "\n",
    "# Plot Y vs X + regression lines\n",
    "plt.subplot(243)\n",
    "plt.scatter(y_gauss, x_gauss, label='Linear Gaussian', alpha=ALPHA, color=COLORS[0])\n",
    "plt.plot(y_gauss, results['Gaussian | x ~ y'][0], color=COLORS[1], label='Fitted model')\n",
    "plt.legend()\n",
    "plt.ylabel('$X$', alpha=.7, fontsize=14)\n",
    "plt.title('Raw data\\nX ~ Y')\n",
    "\n",
    "plt.subplot(247)\n",
    "plt.scatter(y_ngauss, x_ngauss, label='Linear non-Gaussian', alpha=ALPHA, color=COLORS[0])\n",
    "plt.plot(y_ngauss, results['non-Gaussian | x ~ y'][0], color=COLORS[1], label='Fitted model')\n",
    "plt.xlabel('$Y$', alpha=.7, fontsize=14)\n",
    "plt.ylabel('$X$', alpha=.7, fontsize=14)\n",
    "plt.legend()\n",
    "\n",
    "\n",
    "# Plot residuals X ~ Y\n",
    "plt.subplot(244)\n",
    "plt.scatter(y_gauss, results['Gaussian | x ~ y'][1], label='Linear Gaussian', color=COLORS[0], alpha=ALPHA)\n",
    "plt.legend()\n",
    "plt.xlabel('$Y$', alpha=.7, fontsize=14)\n",
    "plt.ylabel('$X - \\hat{X}$', alpha=.7, fontsize=14)\n",
    "plt.title('Residuals\\nX ~ Y')\n",
    "\n",
    "plt.subplot(248)\n",
    "plt.scatter(y_ngauss, results['non-Gaussian | x ~ y'][1], label='Linear non-Gaussian', color=COLORS[0], alpha=ALPHA)\n",
    "plt.legend()\n",
    "plt.xlabel('$Y$', alpha=.7, fontsize=14)\n",
    "plt.ylabel('$X - \\hat{X}$', alpha=.7, fontsize=14)\n",
    "\n",
    "plt.tight_layout()\n",
    "plt.show()"
   ]
  },
  {
   "cell_type": "markdown",
   "id": "c05d3c78-c7f5-416b-94d3-bdf906b9368f",
   "metadata": {},
   "source": [
    "### LiNGAM in Action"
   ]
  },
  {
   "cell_type": "code",
   "execution_count": null,
   "id": "ee8b887c-1590-4bab-8399-6781bac42a8c",
   "metadata": {},
   "outputs": [],
   "source": []
  },
  {
   "cell_type": "code",
   "execution_count": null,
   "id": "a567abaf-173a-4bc2-be74-c1918d647db0",
   "metadata": {},
   "outputs": [],
   "source": []
  },
  {
   "cell_type": "code",
   "execution_count": null,
   "id": "1411b73c-f702-4d17-90f9-eb8a22f4c6a0",
   "metadata": {},
   "outputs": [],
   "source": []
  },
  {
   "cell_type": "code",
   "execution_count": null,
   "id": "63cb4c46-b01e-49f7-85d3-250cd8912fd0",
   "metadata": {},
   "outputs": [],
   "source": []
  },
  {
   "cell_type": "code",
   "execution_count": null,
   "id": "fea95882-e9d2-4286-a709-28dd1d8b09ee",
   "metadata": {},
   "outputs": [],
   "source": []
  },
  {
   "cell_type": "code",
   "execution_count": null,
   "id": "f0b93436-fd17-4585-926e-8eaf5975adad",
   "metadata": {},
   "outputs": [],
   "source": []
  },
  {
   "cell_type": "code",
   "execution_count": null,
   "id": "e8d45b32-4fa6-4844-8912-e5dc4572051d",
   "metadata": {},
   "outputs": [],
   "source": []
  },
  {
   "cell_type": "code",
   "execution_count": null,
   "id": "1c482215-1635-456b-bc2a-615d0c0d3be9",
   "metadata": {},
   "outputs": [],
   "source": []
  },
  {
   "cell_type": "code",
   "execution_count": null,
   "id": "b9a26354-0c6b-4d07-a475-3abf5adfa5d7",
   "metadata": {},
   "outputs": [],
   "source": []
  },
  {
   "cell_type": "code",
   "execution_count": null,
   "id": "936f2472-4e01-474d-9a21-30ff6e407cc0",
   "metadata": {},
   "outputs": [],
   "source": []
  },
  {
   "cell_type": "code",
   "execution_count": null,
   "id": "4e38887d-9e02-4de3-9ad4-313ef19a2f63",
   "metadata": {},
   "outputs": [],
   "source": []
  },
  {
   "cell_type": "code",
   "execution_count": null,
   "id": "933bf797-b983-4beb-b134-c9a9b203249f",
   "metadata": {},
   "outputs": [],
   "source": []
  },
  {
   "cell_type": "code",
   "execution_count": null,
   "id": "c91dfd0c-3a08-4206-b20a-0d2d269fbd26",
   "metadata": {},
   "outputs": [],
   "source": []
  },
  {
   "cell_type": "code",
   "execution_count": null,
   "id": "ca17065a-2cce-4991-b70b-cc78282e9912",
   "metadata": {},
   "outputs": [],
   "source": []
  },
  {
   "cell_type": "code",
   "execution_count": null,
   "id": "0bc98b52-2335-4aad-a2b7-9fe3cbc90952",
   "metadata": {},
   "outputs": [],
   "source": []
  },
  {
   "cell_type": "code",
   "execution_count": null,
   "id": "5997c1f2-267f-4393-be13-5eae0e29cea4",
   "metadata": {},
   "outputs": [],
   "source": []
  },
  {
   "cell_type": "code",
   "execution_count": null,
   "id": "7a2172c1-70dd-4653-ac62-7d61761256e8",
   "metadata": {},
   "outputs": [],
   "source": []
  },
  {
   "cell_type": "code",
   "execution_count": null,
   "id": "325d405a-22ea-49df-823b-24c82bb95244",
   "metadata": {},
   "outputs": [],
   "source": []
  },
  {
   "cell_type": "code",
   "execution_count": null,
   "id": "ceff3743-92b6-4988-9e31-15cdca788d8d",
   "metadata": {},
   "outputs": [],
   "source": []
  },
  {
   "cell_type": "code",
   "execution_count": null,
   "id": "fde14aea-bdcc-4fa4-a503-d27d5c08cfdc",
   "metadata": {},
   "outputs": [],
   "source": []
  },
  {
   "cell_type": "code",
   "execution_count": null,
   "id": "36027a6e-ed48-46dc-8b74-08f6a3b4d47a",
   "metadata": {},
   "outputs": [],
   "source": []
  },
  {
   "cell_type": "code",
   "execution_count": null,
   "id": "92a598dc-8663-4448-9040-2ff3a463d6ed",
   "metadata": {},
   "outputs": [],
   "source": []
  },
  {
   "cell_type": "code",
   "execution_count": null,
   "id": "77fcef99-c1b8-46b6-bebe-8b98b3b18d8b",
   "metadata": {},
   "outputs": [],
   "source": []
  },
  {
   "cell_type": "code",
   "execution_count": null,
   "id": "cfd5b1a8-110d-4834-b45e-24cf152b5999",
   "metadata": {},
   "outputs": [],
   "source": []
  },
  {
   "cell_type": "code",
   "execution_count": null,
   "id": "cebbec25-75f8-4de5-b8c6-a4547b3b4d0a",
   "metadata": {},
   "outputs": [],
   "source": []
  },
  {
   "cell_type": "code",
   "execution_count": null,
   "id": "39a30f3c-6d4e-4163-91fe-ff19de654910",
   "metadata": {},
   "outputs": [],
   "source": []
  },
  {
   "cell_type": "code",
   "execution_count": null,
   "id": "73947574-7d73-45e2-9f81-ed49e8e39c0a",
   "metadata": {},
   "outputs": [],
   "source": []
  },
  {
   "cell_type": "code",
   "execution_count": null,
   "id": "0c0b51fe-662f-41ec-b8f3-7a9d3d77712b",
   "metadata": {},
   "outputs": [],
   "source": []
  },
  {
   "cell_type": "code",
   "execution_count": null,
   "id": "7ed18991-2a62-4ee8-9b54-3ffd2f7cf47f",
   "metadata": {},
   "outputs": [],
   "source": []
  },
  {
   "cell_type": "code",
   "execution_count": null,
   "id": "effe70e0-42a1-4c5c-be8a-57cba8587b7a",
   "metadata": {},
   "outputs": [],
   "source": []
  },
  {
   "cell_type": "code",
   "execution_count": null,
   "id": "4b151f5c-182d-4e8e-a663-fc9e6263e7e5",
   "metadata": {},
   "outputs": [],
   "source": []
  },
  {
   "cell_type": "code",
   "execution_count": null,
   "id": "037ef001-74f6-4675-af60-72a121567a4b",
   "metadata": {},
   "outputs": [],
   "source": []
  },
  {
   "cell_type": "code",
   "execution_count": null,
   "id": "eee70a2f-ac33-4b39-b585-ba6ba288a205",
   "metadata": {},
   "outputs": [],
   "source": []
  },
  {
   "cell_type": "code",
   "execution_count": null,
   "id": "c97eda8a-1bef-4c74-be79-7c89f0fbd197",
   "metadata": {},
   "outputs": [],
   "source": []
  },
  {
   "cell_type": "code",
   "execution_count": null,
   "id": "0da03f7a-97a8-4fd5-bfa9-9666fdae6eca",
   "metadata": {},
   "outputs": [],
   "source": []
  },
  {
   "cell_type": "code",
   "execution_count": null,
   "id": "3227fb7a-399b-417d-8a47-60b40a37a501",
   "metadata": {},
   "outputs": [],
   "source": []
  },
  {
   "cell_type": "code",
   "execution_count": null,
   "id": "fc69d6a8-1bdf-4ac1-93a2-6b5b84d4bffe",
   "metadata": {},
   "outputs": [],
   "source": []
  },
  {
   "cell_type": "code",
   "execution_count": null,
   "id": "21ec57a5-3a27-4abc-b7cb-6e8efb2929f5",
   "metadata": {},
   "outputs": [],
   "source": []
  },
  {
   "cell_type": "code",
   "execution_count": null,
   "id": "05fab8cf-4ab5-45b8-afa7-e0471d5afa54",
   "metadata": {},
   "outputs": [],
   "source": []
  }
 ],
 "metadata": {
  "kernelspec": {
   "display_name": "Python 3 (ipykernel)",
   "language": "python",
   "name": "python3"
  },
  "language_info": {
   "codemirror_mode": {
    "name": "ipython",
    "version": 3
   },
   "file_extension": ".py",
   "mimetype": "text/x-python",
   "name": "python",
   "nbconvert_exporter": "python",
   "pygments_lexer": "ipython3",
   "version": "3.11.5"
  }
 },
 "nbformat": 4,
 "nbformat_minor": 5
}
