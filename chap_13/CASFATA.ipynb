{
 "cells": [
  {
   "cell_type": "markdown",
   "id": "7bddbd3e-1661-4947-8736-320c136d2502",
   "metadata": {},
   "source": [
    "# Causal Discovery & ML - From Assumptions to Applications\n",
    "\n",
    "### Loading Libraries"
   ]
  },
  {
   "cell_type": "code",
   "execution_count": 6,
   "id": "2a6b8796-1f61-4fd4-b05e-7a1751c6616f",
   "metadata": {},
   "outputs": [],
   "source": [
    "# Numerical Computing\n",
    "import numpy as np\n",
    "\n",
    "# Data Manipulation\n",
    "import pandas as pd\n",
    "\n",
    "# IterTools\n",
    "from itertools import combinations\n",
    "\n",
    "# Statistical Models\n",
    "from scipy import stats\n",
    "import statsmodels.api as sm\n",
    "\n",
    "# Networkx\n",
    "import networkx as nx\n",
    "\n",
    "# JavaScript Object Notation\n",
    "import json\n",
    "\n",
    "# Data Visualization\n",
    "import graphviz\n",
    "import seaborn as sns\n",
    "import matplotlib.pyplot as plt\n",
    "\n",
    "# Scikit-Learn\n",
    "from sklearn.preprocessing import StandardScaler\n",
    "from sklearn.ensemble import GradientBoostingRegressor\n",
    "from sklearn.linear_model import LinearRegression, LogisticRegression, LassoCV\n",
    "from sklearn.metrics import mean_absolute_percentage_error\n",
    "\n",
    "# Castle\n",
    "import castle\n",
    "from castle.common import GraphDAG\n",
    "from castle.metrics import MetricsDAG\n",
    "from castle.datasets import DAG, IIDSimulation \n",
    "\n",
    "from castle.algorithms import PC, GES\n",
    "from castle.algorithms import ANMNonlinear, ICALiNGAM, DirectLiNGAM\n",
    "from castle.algorithms import Notears, NotearsNonlinear, GOLEM\n",
    "\n",
    "from castle.common.priori_knowledge import PrioriKnowledge\n",
    "\n",
    "from castle.common.independence_tests import hsic_test\n",
    "\n",
    "# PyTorch & Transformers\n",
    "import torch\n",
    "\n",
    "# DoWhy Causal Libraries\n",
    "import dowhy\n",
    "from dowhy import gcm\n",
    "from dowhy import CausalModel\n",
    "from dowhy.causal_model import CausalModel\n",
    "\n",
    "# Notebook Iteration \n",
    "from tqdm import tqdm\n",
    "\n",
    "# Operating Systems & Environments\n",
    "import os\n",
    "os.environ['CASTLE_BACKEND'] = 'pytorch'\n",
    "\n",
    "# Copy\n",
    "from copy import deepcopy\n",
    "\n",
    "# Light Gradient Boosting Models\n",
    "from lightgbm import LGBMRegressor, LGBMClassifier"
   ]
  },
  {
   "cell_type": "markdown",
   "id": "480e5ce4-7f3e-4b26-83d7-348dc659c25e",
   "metadata": {},
   "source": [
    "#### Setting Viz Standards"
   ]
  },
  {
   "cell_type": "code",
   "execution_count": 7,
   "id": "57d628fe-73e4-4197-af44-77579041cbae",
   "metadata": {},
   "outputs": [],
   "source": [
    "COLORS = [\n",
    "    '#00B0F0',\n",
    "    '#FF0000',\n",
    "    '#B0F000'\n",
    "]"
   ]
  },
  {
   "cell_type": "markdown",
   "id": "07934f73-5728-4a20-b06c-b4c1ffdfe332",
   "metadata": {},
   "source": [
    "#### Setting Seeds"
   ]
  },
  {
   "cell_type": "code",
   "execution_count": 8,
   "id": "dd4d2607-9b7a-4237-9e03-4ec9da3ea489",
   "metadata": {},
   "outputs": [],
   "source": [
    "# Set random seed\n",
    "SEED = 18\n",
    "\n",
    "np.random.seed(SEED)"
   ]
  },
  {
   "cell_type": "markdown",
   "id": "961a39ac-ba3c-4416-b2a7-ab27c9cb541b",
   "metadata": {},
   "source": [
    "## Introduction to gCastle\n",
    "\n",
    "### Synthetic Data in gCastle"
   ]
  },
  {
   "cell_type": "code",
   "execution_count": 10,
   "id": "3aed21be-b807-45ce-9f95-8383de405b9a",
   "metadata": {},
   "outputs": [],
   "source": [
    "# Generate a scale-free adjacency matrix\n",
    "adj_matrix = DAG.scale_free(\n",
    "    n_nodes=10,\n",
    "    n_edges=17,\n",
    "    seed=SEED\n",
    ")"
   ]
  },
  {
   "cell_type": "code",
   "execution_count": null,
   "id": "d79d3e4c-2d85-40e8-9c62-711128a2aa2b",
   "metadata": {},
   "outputs": [],
   "source": [
    "adj_matrix"
   ]
  },
  {
   "cell_type": "code",
   "execution_count": null,
   "id": "0bef4e1d-0420-4202-a8c7-ed4698034ba5",
   "metadata": {},
   "outputs": [],
   "source": [
    "# Visualize the adjacency matrix\n",
    "g = nx.DiGraph(adj_matrix)\n",
    "\n",
    "plt.figure(figsize=(12, 8))\n",
    "nx.draw(\n",
    "    G=g,\n",
    "    node_color=COLORS[0],\n",
    "    node_size=1200,\n",
    "    arrowsize=17,\n",
    "    with_labels=True,\n",
    "    font_color='white',\n",
    "    font_size=21,\n",
    "    pos=nx.circular_layout(g)\n",
    ")"
   ]
  },
  {
   "cell_type": "code",
   "execution_count": null,
   "id": "c14c9a33-1fb5-4d5b-ac6e-3a7ff3189863",
   "metadata": {},
   "outputs": [],
   "source": [
    "dataset = IIDSimulation(\n",
    "    W=adj_matrix, \n",
    "    n=10000, \n",
    "    method='linear', \n",
    "    sem_type='gauss'\n",
    ")"
   ]
  },
  {
   "cell_type": "code",
   "execution_count": null,
   "id": "5a4857e2-c113-4cac-865a-71bcf7e2795b",
   "metadata": {},
   "outputs": [],
   "source": [
    "# Access the generated data\n",
    "dataset.X"
   ]
  },
  {
   "cell_type": "markdown",
   "id": "0cc5f45d-2659-4773-9e90-f8d6539e4990",
   "metadata": {},
   "source": [
    "### Fitting a First Causal Discovery Model"
   ]
  },
  {
   "cell_type": "code",
   "execution_count": null,
   "id": "3a9576d3-841f-49e0-907b-0a38ca943522",
   "metadata": {},
   "outputs": [],
   "source": [
    "# Instantiate the model\n",
    "pc = PC()"
   ]
  },
  {
   "cell_type": "code",
   "execution_count": null,
   "id": "a8d6ed21-fb0a-4c10-bbf9-51980e169d3a",
   "metadata": {},
   "outputs": [],
   "source": [
    "# Fit the model\n",
    "pc.learn(dataset.X)"
   ]
  },
  {
   "cell_type": "code",
   "execution_count": null,
   "id": "ccf02880-786d-4dfd-83d1-67153f2aebb8",
   "metadata": {},
   "outputs": [],
   "source": [
    "pred_dag = pc.causal_matrix\n",
    "pred_dag"
   ]
  },
  {
   "cell_type": "markdown",
   "id": "b4ecd88f-8af7-4024-849b-04ab780d7e4d",
   "metadata": {},
   "source": [
    "#### Visualizing The Model"
   ]
  },
  {
   "cell_type": "code",
   "execution_count": null,
   "id": "4304150b-2ac2-4190-83be-5c7e99bab9ca",
   "metadata": {},
   "outputs": [],
   "source": [
    "g_pred = nx.DiGraph(pred_dag)\n",
    "\n",
    "plt.figure(figsize=(12, 8))\n",
    "nx.draw(\n",
    "    G=g_pred,\n",
    "    node_color=COLORS[0],\n",
    "    node_size=1200,\n",
    "    arrowsize=17,\n",
    "    with_labels=True,\n",
    "    font_color='white',\n",
    "    font_size=21,\n",
    "    pos=nx.circular_layout(g)\n",
    ")"
   ]
  },
  {
   "cell_type": "code",
   "execution_count": null,
   "id": "bb900f27-2149-425c-aa2a-413d8331ae97",
   "metadata": {},
   "outputs": [],
   "source": [
    "GraphDAG(\n",
    "    est_dag=pred_dag, \n",
    "    true_dag=adj_matrix)\n",
    "\n",
    "plt.show()"
   ]
  },
  {
   "cell_type": "markdown",
   "id": "50747371-b7ab-44fd-8007-8269ac51d85a",
   "metadata": {},
   "source": [
    "#### Model Evaluation Metrics"
   ]
  },
  {
   "cell_type": "code",
   "execution_count": null,
   "id": "31764559-53bf-4105-a74d-f3bb496f35ae",
   "metadata": {},
   "outputs": [],
   "source": [
    "metrics = MetricsDAG(\n",
    "    B_est=pred_dag, \n",
    "    B_true=adj_matrix)"
   ]
  },
  {
   "cell_type": "code",
   "execution_count": null,
   "id": "4c528e79-fcf8-49d8-9f50-d7d973c1641c",
   "metadata": {},
   "outputs": [],
   "source": [
    "metrics.metrics['F1']"
   ]
  },
  {
   "cell_type": "code",
   "execution_count": null,
   "id": "c8f61c74-e617-4b60-9667-3cec77c2b02f",
   "metadata": {},
   "outputs": [],
   "source": [
    "metrics.metrics"
   ]
  },
  {
   "cell_type": "code",
   "execution_count": null,
   "id": "8848620f-4b67-48cd-b756-7d910747fbb7",
   "metadata": {},
   "outputs": [],
   "source": [
    "\t\n",
    "def get_n_undirected(g):\n",
    "    \n",
    "    total = 0\n",
    "    \n",
    "    for i in range(g.shape[0]):\n",
    "        for j in range(g.shape[0]):\n",
    "            if (g[i, j] == 1) and (g[i, j] == g[j, i]):\n",
    "                total += .5\n",
    "    \n",
    "    return total"
   ]
  },
  {
   "cell_type": "code",
   "execution_count": null,
   "id": "380a54cd-00c2-4cf2-973a-9bcbc9a9a3dd",
   "metadata": {},
   "outputs": [],
   "source": []
  },
  {
   "cell_type": "code",
   "execution_count": null,
   "id": "c8c05585-38d9-4bc9-9847-d326e47e7aeb",
   "metadata": {},
   "outputs": [],
   "source": []
  },
  {
   "cell_type": "code",
   "execution_count": null,
   "id": "2a7b8c08-1187-415d-968b-739830407ace",
   "metadata": {},
   "outputs": [],
   "source": []
  },
  {
   "cell_type": "code",
   "execution_count": null,
   "id": "bb810b71-d482-4d8f-b379-e1d7a413f84d",
   "metadata": {},
   "outputs": [],
   "source": []
  },
  {
   "cell_type": "code",
   "execution_count": null,
   "id": "f6b5e00f-d191-4f86-9737-729ce6c48699",
   "metadata": {},
   "outputs": [],
   "source": []
  },
  {
   "cell_type": "code",
   "execution_count": null,
   "id": "d274e5b3-7102-454b-a74b-0b78f7dca53d",
   "metadata": {},
   "outputs": [],
   "source": []
  },
  {
   "cell_type": "code",
   "execution_count": null,
   "id": "c2a5adbe-7153-4580-9d48-5be88e524969",
   "metadata": {},
   "outputs": [],
   "source": []
  },
  {
   "cell_type": "code",
   "execution_count": null,
   "id": "9cf031df-97b7-479a-add9-f5293865cd75",
   "metadata": {},
   "outputs": [],
   "source": []
  },
  {
   "cell_type": "code",
   "execution_count": null,
   "id": "1bf89693-f708-482d-8cc4-3d76d11d30b9",
   "metadata": {},
   "outputs": [],
   "source": []
  },
  {
   "cell_type": "code",
   "execution_count": null,
   "id": "d492de21-5e45-42a2-b5ec-ee3b96da1046",
   "metadata": {},
   "outputs": [],
   "source": []
  },
  {
   "cell_type": "code",
   "execution_count": null,
   "id": "b399f719-fee7-420d-83c0-7a87812be5f9",
   "metadata": {},
   "outputs": [],
   "source": []
  },
  {
   "cell_type": "code",
   "execution_count": null,
   "id": "4bdf6c99-6411-4f83-b9ea-86bf2f2fa73b",
   "metadata": {},
   "outputs": [],
   "source": []
  },
  {
   "cell_type": "code",
   "execution_count": null,
   "id": "530aa51f-6bbe-4629-a8fb-8ba121734e57",
   "metadata": {},
   "outputs": [],
   "source": []
  }
 ],
 "metadata": {
  "kernelspec": {
   "display_name": "Python 3 (ipykernel)",
   "language": "python",
   "name": "python3"
  },
  "language_info": {
   "codemirror_mode": {
    "name": "ipython",
    "version": 3
   },
   "file_extension": ".py",
   "mimetype": "text/x-python",
   "name": "python",
   "nbconvert_exporter": "python",
   "pygments_lexer": "ipython3",
   "version": "3.11.5"
  }
 },
 "nbformat": 4,
 "nbformat_minor": 5
}
