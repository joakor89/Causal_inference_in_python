{
 "cells": [
  {
   "cell_type": "markdown",
   "id": "7f5fcba3-7f10-4475-855e-a90ff54459e9",
   "metadata": {},
   "source": [
    "# Causal Inference & Machine Learning - From Matching to Meta-Learners\n",
    "\n",
    "### Loading Libraries"
   ]
  },
  {
   "cell_type": "code",
   "execution_count": 1,
   "id": "32a64ce1-9d9e-478c-bcce-080729561e61",
   "metadata": {},
   "outputs": [],
   "source": [
    "# Numerical Computing\n",
    "import numpy as np\n",
    "\n",
    "# Data Manipulation\n",
    "import pandas as pd\n",
    "\n",
    "# IterTools\n",
    "from itertools import combinations\n",
    "\n",
    "# Statistical Models\n",
    "from scipy import stats\n",
    "import statsmodels.api as sm\n",
    "\n",
    "# Networkx\n",
    "import networkx as nx\n",
    "\n",
    "# Data Visualization\n",
    "import graphviz\n",
    "import seaborn as sns\n",
    "import matplotlib.pyplot as plt\n",
    "\n",
    "# Scikit-Learn\n",
    "from sklearn.ensemble import GradientBoostingRegressor\n",
    "from sklearn.linear_model import LinearRegression, LogisticRegression, LassoCV\n",
    "\n",
    "# DoWhy Causal Libraries\n",
    "import dowhy\n",
    "from dowhy import gcm\n",
    "from dowhy import CausalModel\n",
    "from dowhy.causal_model import CausalModel\n",
    "\n",
    "# Notebook Iteration \n",
    "from tqdm import tqdm\n",
    "\n",
    "# Light Gradient Boosting Models\n",
    "from lightgbm import LGBMRegressor, LGBMClassifier"
   ]
  },
  {
   "cell_type": "markdown",
   "id": "451ea3a1-2eab-44c6-a2f9-d69e5b35edb3",
   "metadata": {},
   "source": [
    "### Setting Color & Viz Parameters"
   ]
  },
  {
   "cell_type": "code",
   "execution_count": 2,
   "id": "17a807fd-c295-49b3-871b-4fd677e109b3",
   "metadata": {},
   "outputs": [],
   "source": [
    "COLORS = [\n",
    "    '#069AF3',\n",
    "    '#F97306'\n",
    "]"
   ]
  },
  {
   "cell_type": "code",
   "execution_count": 3,
   "id": "9fa2611c-765e-43ea-a8d4-8f875c9a38b5",
   "metadata": {},
   "outputs": [],
   "source": [
    "plt.style.use('fivethirtyeight')"
   ]
  },
  {
   "cell_type": "code",
   "execution_count": 4,
   "id": "054a5299-93ac-4eb7-b48f-1607365f60b3",
   "metadata": {},
   "outputs": [
    {
     "data": {
      "text/plain": [
       "'0.11.1'"
      ]
     },
     "execution_count": 4,
     "metadata": {},
     "output_type": "execute_result"
    }
   ],
   "source": [
    "dowhy.__version__"
   ]
  },
  {
   "cell_type": "markdown",
   "id": "3bbac89c-c9f0-432e-9ea8-a6f3e244d291",
   "metadata": {},
   "source": [
    "### Matching"
   ]
  },
  {
   "cell_type": "code",
   "execution_count": 5,
   "id": "d30980af-e926-40e4-a27f-dbece3ffba39",
   "metadata": {},
   "outputs": [],
   "source": [
    "earnings_data = pd.read_csv('/Users/isisromero/desktop/causal_inference/data/ml_earnings.csv')"
   ]
  },
  {
   "cell_type": "code",
   "execution_count": 6,
   "id": "7274c300-7106-4f42-bb5a-d049c2c1d82e",
   "metadata": {},
   "outputs": [
    {
     "data": {
      "image/png": "[encoded data removed]",
      "text/latex": [
       "$\\displaystyle \\left( 200, \\  3\\right)$"
      ],
      "text/plain": [
       "(200, 3)"
      ]
     },
     "execution_count": 6,
     "metadata": {},
     "output_type": "execute_result"
    }
   ],
   "source": [
    "earnings_data.shape"
   ]
  },
  {
   "cell_type": "code",
   "execution_count": 7,
   "id": "aa023048-7be6-4558-b731-4ff4c9b85f56",
   "metadata": {},
   "outputs": [
    {
     "data": {
      "text/html": [
       "<div>\n",
       "<style scoped>\n",
       "    .dataframe tbody tr th:only-of-type {\n",
       "        vertical-align: middle;\n",
       "    }\n",
       "\n",
       "    .dataframe tbody tr th {\n",
       "        vertical-align: top;\n",
       "    }\n",
       "\n",
       "    .dataframe thead th {\n",
       "        text-align: right;\n",
       "    }\n",
       "</style>\n",
       "<table border=\"1\" class=\"dataframe\">\n",
       "  <thead>\n",
       "    <tr style=\"text-align: right;\">\n",
       "      <th></th>\n",
       "      <th>age</th>\n",
       "      <th>took_a_course</th>\n",
       "      <th>earnings</th>\n",
       "    </tr>\n",
       "  </thead>\n",
       "  <tbody>\n",
       "    <tr>\n",
       "      <th>0</th>\n",
       "      <td>19</td>\n",
       "      <td>False</td>\n",
       "      <td>110579.0</td>\n",
       "    </tr>\n",
       "    <tr>\n",
       "      <th>1</th>\n",
       "      <td>28</td>\n",
       "      <td>False</td>\n",
       "      <td>142577.0</td>\n",
       "    </tr>\n",
       "    <tr>\n",
       "      <th>2</th>\n",
       "      <td>22</td>\n",
       "      <td>True</td>\n",
       "      <td>130520.0</td>\n",
       "    </tr>\n",
       "    <tr>\n",
       "      <th>3</th>\n",
       "      <td>25</td>\n",
       "      <td>True</td>\n",
       "      <td>142687.0</td>\n",
       "    </tr>\n",
       "    <tr>\n",
       "      <th>4</th>\n",
       "      <td>24</td>\n",
       "      <td>False</td>\n",
       "      <td>127832.0</td>\n",
       "    </tr>\n",
       "  </tbody>\n",
       "</table>\n",
       "</div>"
      ],
      "text/plain": [
       "   age  took_a_course  earnings\n",
       "0   19          False  110579.0\n",
       "1   28          False  142577.0\n",
       "2   22           True  130520.0\n",
       "3   25           True  142687.0\n",
       "4   24          False  127832.0"
      ]
     },
     "execution_count": 7,
     "metadata": {},
     "output_type": "execute_result"
    }
   ],
   "source": [
    "earnings_data.head()"
   ]
  },
  {
   "cell_type": "code",
   "execution_count": 8,
   "id": "71cac6a9-c77c-40ed-9452-74b4dd37fa45",
   "metadata": {},
   "outputs": [
    {
     "data": {
      "text/html": [
       "<div>\n",
       "<style scoped>\n",
       "    .dataframe tbody tr th:only-of-type {\n",
       "        vertical-align: middle;\n",
       "    }\n",
       "\n",
       "    .dataframe tbody tr th {\n",
       "        vertical-align: top;\n",
       "    }\n",
       "\n",
       "    .dataframe thead th {\n",
       "        text-align: right;\n",
       "    }\n",
       "</style>\n",
       "<table border=\"1\" class=\"dataframe\">\n",
       "  <thead>\n",
       "    <tr style=\"text-align: right;\">\n",
       "      <th></th>\n",
       "      <th></th>\n",
       "      <th>earnings</th>\n",
       "    </tr>\n",
       "    <tr>\n",
       "      <th>age</th>\n",
       "      <th>took_a_course</th>\n",
       "      <th></th>\n",
       "    </tr>\n",
       "  </thead>\n",
       "  <tbody>\n",
       "    <tr>\n",
       "      <th rowspan=\"2\" valign=\"top\">19</th>\n",
       "      <th>False</th>\n",
       "      <td>111110.875000</td>\n",
       "    </tr>\n",
       "    <tr>\n",
       "      <th>True</th>\n",
       "      <td>123488.000000</td>\n",
       "    </tr>\n",
       "    <tr>\n",
       "      <th rowspan=\"2\" valign=\"top\">20</th>\n",
       "      <th>False</th>\n",
       "      <td>115227.142857</td>\n",
       "    </tr>\n",
       "    <tr>\n",
       "      <th>True</th>\n",
       "      <td>125633.285714</td>\n",
       "    </tr>\n",
       "    <tr>\n",
       "      <th rowspan=\"2\" valign=\"top\">21</th>\n",
       "      <th>False</th>\n",
       "      <td>117114.900000</td>\n",
       "    </tr>\n",
       "    <tr>\n",
       "      <th>True</th>\n",
       "      <td>130155.000000</td>\n",
       "    </tr>\n",
       "    <tr>\n",
       "      <th rowspan=\"2\" valign=\"top\">22</th>\n",
       "      <th>False</th>\n",
       "      <td>120226.363636</td>\n",
       "    </tr>\n",
       "    <tr>\n",
       "      <th>True</th>\n",
       "      <td>131437.222222</td>\n",
       "    </tr>\n",
       "    <tr>\n",
       "      <th rowspan=\"2\" valign=\"top\">23</th>\n",
       "      <th>False</th>\n",
       "      <td>124460.900000</td>\n",
       "    </tr>\n",
       "    <tr>\n",
       "      <th>True</th>\n",
       "      <td>134654.333333</td>\n",
       "    </tr>\n",
       "    <tr>\n",
       "      <th rowspan=\"2\" valign=\"top\">24</th>\n",
       "      <th>False</th>\n",
       "      <td>126878.583333</td>\n",
       "    </tr>\n",
       "    <tr>\n",
       "      <th>True</th>\n",
       "      <td>137564.250000</td>\n",
       "    </tr>\n",
       "    <tr>\n",
       "      <th rowspan=\"2\" valign=\"top\">25</th>\n",
       "      <th>False</th>\n",
       "      <td>130812.800000</td>\n",
       "    </tr>\n",
       "    <tr>\n",
       "      <th>True</th>\n",
       "      <td>142715.000000</td>\n",
       "    </tr>\n",
       "    <tr>\n",
       "      <th rowspan=\"2\" valign=\"top\">26</th>\n",
       "      <th>False</th>\n",
       "      <td>134004.250000</td>\n",
       "    </tr>\n",
       "    <tr>\n",
       "      <th>True</th>\n",
       "      <td>144552.800000</td>\n",
       "    </tr>\n",
       "    <tr>\n",
       "      <th rowspan=\"2\" valign=\"top\">27</th>\n",
       "      <th>False</th>\n",
       "      <td>139035.600000</td>\n",
       "    </tr>\n",
       "    <tr>\n",
       "      <th>True</th>\n",
       "      <td>148744.333333</td>\n",
       "    </tr>\n",
       "    <tr>\n",
       "      <th rowspan=\"2\" valign=\"top\">28</th>\n",
       "      <th>False</th>\n",
       "      <td>141580.000000</td>\n",
       "    </tr>\n",
       "    <tr>\n",
       "      <th>True</th>\n",
       "      <td>152485.333333</td>\n",
       "    </tr>\n",
       "    <tr>\n",
       "      <th rowspan=\"2\" valign=\"top\">29</th>\n",
       "      <th>False</th>\n",
       "      <td>145248.600000</td>\n",
       "    </tr>\n",
       "    <tr>\n",
       "      <th>True</th>\n",
       "      <td>152694.000000</td>\n",
       "    </tr>\n",
       "    <tr>\n",
       "      <th rowspan=\"2\" valign=\"top\">30</th>\n",
       "      <th>False</th>\n",
       "      <td>150333.750000</td>\n",
       "    </tr>\n",
       "    <tr>\n",
       "      <th>True</th>\n",
       "      <td>159586.400000</td>\n",
       "    </tr>\n",
       "    <tr>\n",
       "      <th rowspan=\"2\" valign=\"top\">31</th>\n",
       "      <th>False</th>\n",
       "      <td>152532.000000</td>\n",
       "    </tr>\n",
       "    <tr>\n",
       "      <th>True</th>\n",
       "      <td>163592.000000</td>\n",
       "    </tr>\n",
       "    <tr>\n",
       "      <th rowspan=\"2\" valign=\"top\">32</th>\n",
       "      <th>False</th>\n",
       "      <td>157515.200000</td>\n",
       "    </tr>\n",
       "    <tr>\n",
       "      <th>True</th>\n",
       "      <td>169854.000000</td>\n",
       "    </tr>\n",
       "    <tr>\n",
       "      <th rowspan=\"2\" valign=\"top\">33</th>\n",
       "      <th>False</th>\n",
       "      <td>162453.500000</td>\n",
       "    </tr>\n",
       "    <tr>\n",
       "      <th>True</th>\n",
       "      <td>170020.000000</td>\n",
       "    </tr>\n",
       "    <tr>\n",
       "      <th rowspan=\"2\" valign=\"top\">34</th>\n",
       "      <th>False</th>\n",
       "      <td>165694.200000</td>\n",
       "    </tr>\n",
       "    <tr>\n",
       "      <th>True</th>\n",
       "      <td>178922.000000</td>\n",
       "    </tr>\n",
       "    <tr>\n",
       "      <th rowspan=\"2\" valign=\"top\">35</th>\n",
       "      <th>False</th>\n",
       "      <td>172134.250000</td>\n",
       "    </tr>\n",
       "    <tr>\n",
       "      <th>True</th>\n",
       "      <td>180404.500000</td>\n",
       "    </tr>\n",
       "    <tr>\n",
       "      <th>36</th>\n",
       "      <th>False</th>\n",
       "      <td>175240.666667</td>\n",
       "    </tr>\n",
       "    <tr>\n",
       "      <th rowspan=\"2\" valign=\"top\">37</th>\n",
       "      <th>False</th>\n",
       "      <td>181514.000000</td>\n",
       "    </tr>\n",
       "    <tr>\n",
       "      <th>True</th>\n",
       "      <td>187627.000000</td>\n",
       "    </tr>\n",
       "    <tr>\n",
       "      <th>38</th>\n",
       "      <th>False</th>\n",
       "      <td>185546.333333</td>\n",
       "    </tr>\n",
       "    <tr>\n",
       "      <th>39</th>\n",
       "      <th>False</th>\n",
       "      <td>187253.666667</td>\n",
       "    </tr>\n",
       "    <tr>\n",
       "      <th rowspan=\"2\" valign=\"top\">41</th>\n",
       "      <th>False</th>\n",
       "      <td>201729.000000</td>\n",
       "    </tr>\n",
       "    <tr>\n",
       "      <th>True</th>\n",
       "      <td>207676.000000</td>\n",
       "    </tr>\n",
       "    <tr>\n",
       "      <th rowspan=\"2\" valign=\"top\">42</th>\n",
       "      <th>False</th>\n",
       "      <td>203029.000000</td>\n",
       "    </tr>\n",
       "    <tr>\n",
       "      <th>True</th>\n",
       "      <td>214445.000000</td>\n",
       "    </tr>\n",
       "    <tr>\n",
       "      <th>43</th>\n",
       "      <th>False</th>\n",
       "      <td>210243.000000</td>\n",
       "    </tr>\n",
       "    <tr>\n",
       "      <th>45</th>\n",
       "      <th>True</th>\n",
       "      <td>233035.000000</td>\n",
       "    </tr>\n",
       "    <tr>\n",
       "      <th>48</th>\n",
       "      <th>False</th>\n",
       "      <td>239510.000000</td>\n",
       "    </tr>\n",
       "  </tbody>\n",
       "</table>\n",
       "</div>"
      ],
      "text/plain": [
       "                        earnings\n",
       "age took_a_course               \n",
       "19  False          111110.875000\n",
       "    True           123488.000000\n",
       "20  False          115227.142857\n",
       "    True           125633.285714\n",
       "21  False          117114.900000\n",
       "    True           130155.000000\n",
       "22  False          120226.363636\n",
       "    True           131437.222222\n",
       "23  False          124460.900000\n",
       "    True           134654.333333\n",
       "24  False          126878.583333\n",
       "    True           137564.250000\n",
       "25  False          130812.800000\n",
       "    True           142715.000000\n",
       "26  False          134004.250000\n",
       "    True           144552.800000\n",
       "27  False          139035.600000\n",
       "    True           148744.333333\n",
       "28  False          141580.000000\n",
       "    True           152485.333333\n",
       "29  False          145248.600000\n",
       "    True           152694.000000\n",
       "30  False          150333.750000\n",
       "    True           159586.400000\n",
       "31  False          152532.000000\n",
       "    True           163592.000000\n",
       "32  False          157515.200000\n",
       "    True           169854.000000\n",
       "33  False          162453.500000\n",
       "    True           170020.000000\n",
       "34  False          165694.200000\n",
       "    True           178922.000000\n",
       "35  False          172134.250000\n",
       "    True           180404.500000\n",
       "36  False          175240.666667\n",
       "37  False          181514.000000\n",
       "    True           187627.000000\n",
       "38  False          185546.333333\n",
       "39  False          187253.666667\n",
       "41  False          201729.000000\n",
       "    True           207676.000000\n",
       "42  False          203029.000000\n",
       "    True           214445.000000\n",
       "43  False          210243.000000\n",
       "45  True           233035.000000\n",
       "48  False          239510.000000"
      ]
     },
     "execution_count": 8,
     "metadata": {},
     "output_type": "execute_result"
    }
   ],
   "source": [
    "earnings_data.groupby(['age', 'took_a_course']).mean()"
   ]
  },
  {
   "cell_type": "code",
   "execution_count": 9,
   "id": "161a4d96-5d9c-44ba-b676-bf66fcff2559",
   "metadata": {},
   "outputs": [
    {
     "data": {
      "image/png": "[encoded data removed]",
      "text/latex": [
       "$\\displaystyle 6695.57088285231$"
      ],
      "text/plain": [
       "6695.570882852306"
      ]
     },
     "execution_count": 9,
     "metadata": {},
     "output_type": "execute_result"
    }
   ],
   "source": [
    "# Compute Naïve Estimate \n",
    "treatment_avg = earnings_data.query('took_a_course==1')['earnings'].mean()\n",
    "cntrl_avg = earnings_data.query('took_a_course==0')['earnings'].mean()\n",
    "\n",
    "treatment_avg - cntrl_avg"
   ]
  },
  {
   "cell_type": "markdown",
   "id": "8080345a-99f4-4b6b-89fc-b45b7a49589c",
   "metadata": {},
   "source": [
    "#### Define The Graph"
   ]
  },
  {
   "cell_type": "code",
   "execution_count": 10,
   "id": "2e346c60-d415-4741-87ac-a53a0b8cbaa8",
   "metadata": {},
   "outputs": [],
   "source": [
    "# Construct the graph (the graph is constant for all iterations)\n",
    "nodes = ['took_a_course', 'earnings', 'age']\n",
    "edges = [\n",
    "    ('took_a_course', 'earnings'),\n",
    "    ('age', 'took_a_course'),\n",
    "    ('age', 'earnings')\n",
    "]\n",
    "\n",
    "# Generate the GML graph\n",
    "gml_string = 'graph [directed 1\\n'\n",
    "\n",
    "for node in nodes:\n",
    "    gml_string += f'\\tnode [id \"{node}\" label \"{node}\"]\\n'\n",
    "\n",
    "for edge in edges:\n",
    "    gml_string += f'\\tedge [source \"{edge[0]}\" target \"{edge[1]}\"]\\n'\n",
    "    \n",
    "gml_string += ']'"
   ]
  },
  {
   "cell_type": "code",
   "execution_count": 11,
   "id": "a731c2ee-19d2-4919-8049-84c344900fee",
   "metadata": {},
   "outputs": [],
   "source": [
    "# Instantiate The CausalModel \n",
    "model = CausalModel(\n",
    "    data=earnings_data,\n",
    "    treatment='took_a_course',\n",
    "    outcome='earnings',\n",
    "    graph=gml_string\n",
    ")"
   ]
  },
  {
   "cell_type": "code",
   "execution_count": 12,
   "id": "96726722-a75f-4ffb-9671-25db99429453",
   "metadata": {},
   "outputs": [
    {
     "data": {
      "image/png": "[encoded data removed]",
      "text/plain": [
       "<Figure size 800x600 with 1 Axes>"
      ]
     },
     "metadata": {},
     "output_type": "display_data"
    }
   ],
   "source": [
    "model.view_model()"
   ]
  },
  {
   "cell_type": "markdown",
   "id": "0a9cf546-9e78-4a0d-8fee-d66d6edbfda1",
   "metadata": {},
   "source": [
    "#### Getting The Estimand"
   ]
  },
  {
   "cell_type": "code",
   "execution_count": 13,
   "id": "ebc7638f-c159-4406-8b9f-bcd5902c0cec",
   "metadata": {},
   "outputs": [
    {
     "name": "stdout",
     "output_type": "stream",
     "text": [
      "Estimand type: EstimandType.NONPARAMETRIC_ATE\n",
      "\n",
      "### Estimand : 1\n",
      "Estimand name: backdoor\n",
      "Estimand expression:\n",
      "       d                         \n",
      "────────────────(E[earnings|age])\n",
      "d[took_a_course]                 \n",
      "Estimand assumption 1, Unconfoundedness: If U→{took_a_course} and U→earnings then P(earnings|took_a_course,age,U) = P(earnings|took_a_course,age)\n",
      "\n",
      "### Estimand : 2\n",
      "Estimand name: iv\n",
      "No such variable(s) found!\n",
      "\n",
      "### Estimand : 3\n",
      "Estimand name: frontdoor\n",
      "No such variable(s) found!\n",
      "\n"
     ]
    }
   ],
   "source": [
    "# Get The Estimand\n",
    "estimand = model.identify_effect()\n",
    "\n",
    "print(estimand)"
   ]
  },
  {
   "cell_type": "markdown",
   "id": "bfaa762b-f3a6-4070-863a-263e2ac1d8a9",
   "metadata": {},
   "source": [
    "#### Estimate The Effect"
   ]
  },
  {
   "cell_type": "code",
   "execution_count": 14,
   "id": "613c36a6-3455-495a-9a4f-d5b27f0b5b80",
   "metadata": {},
   "outputs": [],
   "source": [
    "# Get Estimate (Matching)\n",
    "estimate = model.estimate_effect(\n",
    "    identified_estimand=estimand,\n",
    "    method_name='backdoor.distance_matching',\n",
    "    target_units='ate',\n",
    "    method_params={'distance_metric': 'minkowski', 'p': 2})"
   ]
  },
  {
   "cell_type": "code",
   "execution_count": 15,
   "id": "41b8dbac-3fed-4d26-ab0c-35488ab60699",
   "metadata": {},
   "outputs": [
    {
     "data": {
      "image/png": "[encoded data removed]",
      "text/latex": [
       "$\\displaystyle 10333.75$"
      ],
      "text/plain": [
       "10333.75"
      ]
     },
     "execution_count": 15,
     "metadata": {},
     "output_type": "execute_result"
    }
   ],
   "source": [
    "estimate.value"
   ]
  },
  {
   "cell_type": "code",
   "execution_count": 17,
   "id": "f2d4e565-16c1-4016-9d4f-6023b3717e77",
   "metadata": {},
   "outputs": [
    {
     "ename": "ValueError",
     "evalue": "No group keys passed!",
     "output_type": "error",
     "traceback": [
      "\u001b[0;31m---------------------------------------------------------------------------\u001b[0m",
      "\u001b[0;31mValueError\u001b[0m                                Traceback (most recent call last)",
      "Cell \u001b[0;32mIn[17], line 1\u001b[0m\n\u001b[0;32m----> 1\u001b[0m refutation \u001b[38;5;241m=\u001b[39m model\u001b[38;5;241m.\u001b[39mrefute_estimate(\n\u001b[1;32m      2\u001b[0m     estimand\u001b[38;5;241m=\u001b[39mestimand, \n\u001b[1;32m      3\u001b[0m     estimate\u001b[38;5;241m=\u001b[39mestimate,\n\u001b[1;32m      4\u001b[0m     method_name\u001b[38;5;241m=\u001b[39m\u001b[38;5;124m'\u001b[39m\u001b[38;5;124mrandom_common_cause\u001b[39m\u001b[38;5;124m'\u001b[39m)\n",
      "File \u001b[0;32m~/anaconda3/envs/CAUSINF/lib/python3.11/site-packages/dowhy/causal_model.py:459\u001b[0m, in \u001b[0;36mCausalModel.refute_estimate\u001b[0;34m(self, estimand, estimate, method_name, show_progress_bar, **kwargs)\u001b[0m\n\u001b[1;32m    456\u001b[0m     refuter_class \u001b[38;5;241m=\u001b[39m causal_refuters\u001b[38;5;241m.\u001b[39mget_class_object(method_name)\n\u001b[1;32m    458\u001b[0m refuter \u001b[38;5;241m=\u001b[39m refuter_class(\u001b[38;5;28mself\u001b[39m\u001b[38;5;241m.\u001b[39m_data, identified_estimand\u001b[38;5;241m=\u001b[39mestimand, estimate\u001b[38;5;241m=\u001b[39mestimate, \u001b[38;5;241m*\u001b[39m\u001b[38;5;241m*\u001b[39mkwargs)\n\u001b[0;32m--> 459\u001b[0m res \u001b[38;5;241m=\u001b[39m refuter\u001b[38;5;241m.\u001b[39mrefute_estimate(show_progress_bar)\n\u001b[1;32m    460\u001b[0m \u001b[38;5;28;01mreturn\u001b[39;00m res\n",
      "File \u001b[0;32m~/anaconda3/envs/CAUSINF/lib/python3.11/site-packages/dowhy/causal_refuters/random_common_cause.py:45\u001b[0m, in \u001b[0;36mRandomCommonCause.refute_estimate\u001b[0;34m(self, show_progress_bar)\u001b[0m\n\u001b[1;32m     44\u001b[0m \u001b[38;5;28;01mdef\u001b[39;00m \u001b[38;5;21mrefute_estimate\u001b[39m(\u001b[38;5;28mself\u001b[39m, show_progress_bar\u001b[38;5;241m=\u001b[39m\u001b[38;5;28;01mFalse\u001b[39;00m):\n\u001b[0;32m---> 45\u001b[0m     refute \u001b[38;5;241m=\u001b[39m refute_random_common_cause(\n\u001b[1;32m     46\u001b[0m         \u001b[38;5;28mself\u001b[39m\u001b[38;5;241m.\u001b[39m_data,\n\u001b[1;32m     47\u001b[0m         \u001b[38;5;28mself\u001b[39m\u001b[38;5;241m.\u001b[39m_target_estimand,\n\u001b[1;32m     48\u001b[0m         \u001b[38;5;28mself\u001b[39m\u001b[38;5;241m.\u001b[39m_estimate,\n\u001b[1;32m     49\u001b[0m         \u001b[38;5;28mself\u001b[39m\u001b[38;5;241m.\u001b[39m_num_simulations,\n\u001b[1;32m     50\u001b[0m         \u001b[38;5;28mself\u001b[39m\u001b[38;5;241m.\u001b[39m_random_state,\n\u001b[1;32m     51\u001b[0m         show_progress_bar,\n\u001b[1;32m     52\u001b[0m         \u001b[38;5;28mself\u001b[39m\u001b[38;5;241m.\u001b[39m_n_jobs,\n\u001b[1;32m     53\u001b[0m         \u001b[38;5;28mself\u001b[39m\u001b[38;5;241m.\u001b[39m_verbose,\n\u001b[1;32m     54\u001b[0m     )\n\u001b[1;32m     55\u001b[0m     refute\u001b[38;5;241m.\u001b[39madd_refuter(\u001b[38;5;28mself\u001b[39m)\n\u001b[1;32m     56\u001b[0m     \u001b[38;5;28;01mreturn\u001b[39;00m refute\n",
      "File \u001b[0;32m~/anaconda3/envs/CAUSINF/lib/python3.11/site-packages/dowhy/causal_refuters/random_common_cause.py:119\u001b[0m, in \u001b[0;36mrefute_random_common_cause\u001b[0;34m(data, target_estimand, estimate, num_simulations, random_state, show_progress_bar, n_jobs, verbose, **_)\u001b[0m\n\u001b[1;32m    116\u001b[0m     random_state \u001b[38;5;241m=\u001b[39m np\u001b[38;5;241m.\u001b[39mrandom\u001b[38;5;241m.\u001b[39mRandomState(seed\u001b[38;5;241m=\u001b[39mrandom_state)\n\u001b[1;32m    118\u001b[0m \u001b[38;5;66;03m# Run refutation in parallel\u001b[39;00m\n\u001b[0;32m--> 119\u001b[0m sample_estimates \u001b[38;5;241m=\u001b[39m Parallel(n_jobs\u001b[38;5;241m=\u001b[39mn_jobs, verbose\u001b[38;5;241m=\u001b[39mverbose)(\n\u001b[1;32m    120\u001b[0m     delayed(_refute_once)(data, identified_estimand, estimate, random_state)\n\u001b[1;32m    121\u001b[0m     \u001b[38;5;28;01mfor\u001b[39;00m _ \u001b[38;5;129;01min\u001b[39;00m tqdm(\n\u001b[1;32m    122\u001b[0m         \u001b[38;5;28mrange\u001b[39m(num_simulations),\n\u001b[1;32m    123\u001b[0m         colour\u001b[38;5;241m=\u001b[39mCausalRefuter\u001b[38;5;241m.\u001b[39mPROGRESS_BAR_COLOR,\n\u001b[1;32m    124\u001b[0m         disable\u001b[38;5;241m=\u001b[39m\u001b[38;5;129;01mnot\u001b[39;00m show_progress_bar,\n\u001b[1;32m    125\u001b[0m         desc\u001b[38;5;241m=\u001b[39m\u001b[38;5;124m\"\u001b[39m\u001b[38;5;124mRefuting Estimates: \u001b[39m\u001b[38;5;124m\"\u001b[39m,\n\u001b[1;32m    126\u001b[0m     )\n\u001b[1;32m    127\u001b[0m )\n\u001b[1;32m    128\u001b[0m sample_estimates \u001b[38;5;241m=\u001b[39m np\u001b[38;5;241m.\u001b[39marray(sample_estimates)\n\u001b[1;32m    130\u001b[0m refute \u001b[38;5;241m=\u001b[39m CausalRefutation(\n\u001b[1;32m    131\u001b[0m     estimate\u001b[38;5;241m.\u001b[39mvalue, np\u001b[38;5;241m.\u001b[39mmean(sample_estimates), refutation_type\u001b[38;5;241m=\u001b[39m\u001b[38;5;124m\"\u001b[39m\u001b[38;5;124mRefute: Add a random common cause\u001b[39m\u001b[38;5;124m\"\u001b[39m\n\u001b[1;32m    132\u001b[0m )\n",
      "File \u001b[0;32m~/anaconda3/envs/CAUSINF/lib/python3.11/site-packages/joblib/parallel.py:1918\u001b[0m, in \u001b[0;36mParallel.__call__\u001b[0;34m(self, iterable)\u001b[0m\n\u001b[1;32m   1916\u001b[0m     output \u001b[38;5;241m=\u001b[39m \u001b[38;5;28mself\u001b[39m\u001b[38;5;241m.\u001b[39m_get_sequential_output(iterable)\n\u001b[1;32m   1917\u001b[0m     \u001b[38;5;28mnext\u001b[39m(output)\n\u001b[0;32m-> 1918\u001b[0m     \u001b[38;5;28;01mreturn\u001b[39;00m output \u001b[38;5;28;01mif\u001b[39;00m \u001b[38;5;28mself\u001b[39m\u001b[38;5;241m.\u001b[39mreturn_generator \u001b[38;5;28;01melse\u001b[39;00m \u001b[38;5;28mlist\u001b[39m(output)\n\u001b[1;32m   1920\u001b[0m \u001b[38;5;66;03m# Let's create an ID that uniquely identifies the current call. If the\u001b[39;00m\n\u001b[1;32m   1921\u001b[0m \u001b[38;5;66;03m# call is interrupted early and that the same instance is immediately\u001b[39;00m\n\u001b[1;32m   1922\u001b[0m \u001b[38;5;66;03m# re-used, this id will be used to prevent workers that were\u001b[39;00m\n\u001b[1;32m   1923\u001b[0m \u001b[38;5;66;03m# concurrently finalizing a task from the previous call to run the\u001b[39;00m\n\u001b[1;32m   1924\u001b[0m \u001b[38;5;66;03m# callback.\u001b[39;00m\n\u001b[1;32m   1925\u001b[0m \u001b[38;5;28;01mwith\u001b[39;00m \u001b[38;5;28mself\u001b[39m\u001b[38;5;241m.\u001b[39m_lock:\n",
      "File \u001b[0;32m~/anaconda3/envs/CAUSINF/lib/python3.11/site-packages/joblib/parallel.py:1847\u001b[0m, in \u001b[0;36mParallel._get_sequential_output\u001b[0;34m(self, iterable)\u001b[0m\n\u001b[1;32m   1845\u001b[0m \u001b[38;5;28mself\u001b[39m\u001b[38;5;241m.\u001b[39mn_dispatched_batches \u001b[38;5;241m+\u001b[39m\u001b[38;5;241m=\u001b[39m \u001b[38;5;241m1\u001b[39m\n\u001b[1;32m   1846\u001b[0m \u001b[38;5;28mself\u001b[39m\u001b[38;5;241m.\u001b[39mn_dispatched_tasks \u001b[38;5;241m+\u001b[39m\u001b[38;5;241m=\u001b[39m \u001b[38;5;241m1\u001b[39m\n\u001b[0;32m-> 1847\u001b[0m res \u001b[38;5;241m=\u001b[39m func(\u001b[38;5;241m*\u001b[39margs, \u001b[38;5;241m*\u001b[39m\u001b[38;5;241m*\u001b[39mkwargs)\n\u001b[1;32m   1848\u001b[0m \u001b[38;5;28mself\u001b[39m\u001b[38;5;241m.\u001b[39mn_completed_tasks \u001b[38;5;241m+\u001b[39m\u001b[38;5;241m=\u001b[39m \u001b[38;5;241m1\u001b[39m\n\u001b[1;32m   1849\u001b[0m \u001b[38;5;28mself\u001b[39m\u001b[38;5;241m.\u001b[39mprint_progress()\n",
      "File \u001b[0;32m~/anaconda3/envs/CAUSINF/lib/python3.11/site-packages/dowhy/causal_refuters/random_common_cause.py:76\u001b[0m, in \u001b[0;36m_refute_once\u001b[0;34m(data, target_estimand, estimate, random_state)\u001b[0m\n\u001b[1;32m     70\u001b[0m new_estimator \u001b[38;5;241m=\u001b[39m estimate\u001b[38;5;241m.\u001b[39mestimator\u001b[38;5;241m.\u001b[39mget_new_estimator_object(target_estimand)\n\u001b[1;32m     71\u001b[0m new_estimator\u001b[38;5;241m.\u001b[39mfit(\n\u001b[1;32m     72\u001b[0m     new_data,\n\u001b[1;32m     73\u001b[0m     estimate\u001b[38;5;241m.\u001b[39mestimator\u001b[38;5;241m.\u001b[39m_effect_modifier_names,\n\u001b[1;32m     74\u001b[0m     \u001b[38;5;241m*\u001b[39m\u001b[38;5;241m*\u001b[39mnew_estimator\u001b[38;5;241m.\u001b[39m_econml_fit_params \u001b[38;5;28;01mif\u001b[39;00m \u001b[38;5;28misinstance\u001b[39m(new_estimator, Econml) \u001b[38;5;28;01melse\u001b[39;00m {},\n\u001b[1;32m     75\u001b[0m )\n\u001b[0;32m---> 76\u001b[0m new_effect \u001b[38;5;241m=\u001b[39m new_estimator\u001b[38;5;241m.\u001b[39mestimate_effect(\n\u001b[1;32m     77\u001b[0m     new_data,\n\u001b[1;32m     78\u001b[0m     control_value\u001b[38;5;241m=\u001b[39mestimate\u001b[38;5;241m.\u001b[39mcontrol_value,\n\u001b[1;32m     79\u001b[0m     treatment_value\u001b[38;5;241m=\u001b[39mestimate\u001b[38;5;241m.\u001b[39mtreatment_value,\n\u001b[1;32m     80\u001b[0m     target_units\u001b[38;5;241m=\u001b[39mestimate\u001b[38;5;241m.\u001b[39mestimator\u001b[38;5;241m.\u001b[39m_target_units,\n\u001b[1;32m     81\u001b[0m )\n\u001b[1;32m     82\u001b[0m \u001b[38;5;28;01mreturn\u001b[39;00m new_effect\u001b[38;5;241m.\u001b[39mvalue\n",
      "File \u001b[0;32m~/anaconda3/envs/CAUSINF/lib/python3.11/site-packages/dowhy/causal_estimators/distance_matching_estimator.py:234\u001b[0m, in \u001b[0;36mDistanceMatchingEstimator.estimate_effect\u001b[0;34m(self, data, treatment_value, control_value, target_units, **_)\u001b[0m\n\u001b[1;32m    232\u001b[0m         \u001b[38;5;28mself\u001b[39m\u001b[38;5;241m.\u001b[39mmatched_indices_att[treated_df_index[i]] \u001b[38;5;241m=\u001b[39m control\u001b[38;5;241m.\u001b[39miloc[indices[i]]\u001b[38;5;241m.\u001b[39mindex\u001b[38;5;241m.\u001b[39mtolist()\n\u001b[1;32m    233\u001b[0m \u001b[38;5;28;01melse\u001b[39;00m:\n\u001b[0;32m--> 234\u001b[0m     grouped \u001b[38;5;241m=\u001b[39m updated_df\u001b[38;5;241m.\u001b[39mgroupby(\u001b[38;5;28mself\u001b[39m\u001b[38;5;241m.\u001b[39mexact_match_cols)\n\u001b[1;32m    235\u001b[0m     att \u001b[38;5;241m=\u001b[39m \u001b[38;5;241m0\u001b[39m\n\u001b[1;32m    236\u001b[0m     \u001b[38;5;28;01mfor\u001b[39;00m name, group \u001b[38;5;129;01min\u001b[39;00m grouped:\n",
      "File \u001b[0;32m~/anaconda3/envs/CAUSINF/lib/python3.11/site-packages/pandas/core/frame.py:9183\u001b[0m, in \u001b[0;36mDataFrame.groupby\u001b[0;34m(self, by, axis, level, as_index, sort, group_keys, observed, dropna)\u001b[0m\n\u001b[1;32m   9180\u001b[0m \u001b[38;5;28;01mif\u001b[39;00m level \u001b[38;5;129;01mis\u001b[39;00m \u001b[38;5;28;01mNone\u001b[39;00m \u001b[38;5;129;01mand\u001b[39;00m by \u001b[38;5;129;01mis\u001b[39;00m \u001b[38;5;28;01mNone\u001b[39;00m:\n\u001b[1;32m   9181\u001b[0m     \u001b[38;5;28;01mraise\u001b[39;00m \u001b[38;5;167;01mTypeError\u001b[39;00m(\u001b[38;5;124m\"\u001b[39m\u001b[38;5;124mYou have to supply one of \u001b[39m\u001b[38;5;124m'\u001b[39m\u001b[38;5;124mby\u001b[39m\u001b[38;5;124m'\u001b[39m\u001b[38;5;124m and \u001b[39m\u001b[38;5;124m'\u001b[39m\u001b[38;5;124mlevel\u001b[39m\u001b[38;5;124m'\u001b[39m\u001b[38;5;124m\"\u001b[39m)\n\u001b[0;32m-> 9183\u001b[0m \u001b[38;5;28;01mreturn\u001b[39;00m DataFrameGroupBy(\n\u001b[1;32m   9184\u001b[0m     obj\u001b[38;5;241m=\u001b[39m\u001b[38;5;28mself\u001b[39m,\n\u001b[1;32m   9185\u001b[0m     keys\u001b[38;5;241m=\u001b[39mby,\n\u001b[1;32m   9186\u001b[0m     axis\u001b[38;5;241m=\u001b[39maxis,\n\u001b[1;32m   9187\u001b[0m     level\u001b[38;5;241m=\u001b[39mlevel,\n\u001b[1;32m   9188\u001b[0m     as_index\u001b[38;5;241m=\u001b[39mas_index,\n\u001b[1;32m   9189\u001b[0m     sort\u001b[38;5;241m=\u001b[39msort,\n\u001b[1;32m   9190\u001b[0m     group_keys\u001b[38;5;241m=\u001b[39mgroup_keys,\n\u001b[1;32m   9191\u001b[0m     observed\u001b[38;5;241m=\u001b[39mobserved,\n\u001b[1;32m   9192\u001b[0m     dropna\u001b[38;5;241m=\u001b[39mdropna,\n\u001b[1;32m   9193\u001b[0m )\n",
      "File \u001b[0;32m~/anaconda3/envs/CAUSINF/lib/python3.11/site-packages/pandas/core/groupby/groupby.py:1329\u001b[0m, in \u001b[0;36mGroupBy.__init__\u001b[0;34m(self, obj, keys, axis, level, grouper, exclusions, selection, as_index, sort, group_keys, observed, dropna)\u001b[0m\n\u001b[1;32m   1326\u001b[0m \u001b[38;5;28mself\u001b[39m\u001b[38;5;241m.\u001b[39mdropna \u001b[38;5;241m=\u001b[39m dropna\n\u001b[1;32m   1328\u001b[0m \u001b[38;5;28;01mif\u001b[39;00m grouper \u001b[38;5;129;01mis\u001b[39;00m \u001b[38;5;28;01mNone\u001b[39;00m:\n\u001b[0;32m-> 1329\u001b[0m     grouper, exclusions, obj \u001b[38;5;241m=\u001b[39m get_grouper(\n\u001b[1;32m   1330\u001b[0m         obj,\n\u001b[1;32m   1331\u001b[0m         keys,\n\u001b[1;32m   1332\u001b[0m         axis\u001b[38;5;241m=\u001b[39maxis,\n\u001b[1;32m   1333\u001b[0m         level\u001b[38;5;241m=\u001b[39mlevel,\n\u001b[1;32m   1334\u001b[0m         sort\u001b[38;5;241m=\u001b[39msort,\n\u001b[1;32m   1335\u001b[0m         observed\u001b[38;5;241m=\u001b[39m\u001b[38;5;28;01mFalse\u001b[39;00m \u001b[38;5;28;01mif\u001b[39;00m observed \u001b[38;5;129;01mis\u001b[39;00m lib\u001b[38;5;241m.\u001b[39mno_default \u001b[38;5;28;01melse\u001b[39;00m observed,\n\u001b[1;32m   1336\u001b[0m         dropna\u001b[38;5;241m=\u001b[39m\u001b[38;5;28mself\u001b[39m\u001b[38;5;241m.\u001b[39mdropna,\n\u001b[1;32m   1337\u001b[0m     )\n\u001b[1;32m   1339\u001b[0m \u001b[38;5;28;01mif\u001b[39;00m observed \u001b[38;5;129;01mis\u001b[39;00m lib\u001b[38;5;241m.\u001b[39mno_default:\n\u001b[1;32m   1340\u001b[0m     \u001b[38;5;28;01mif\u001b[39;00m \u001b[38;5;28many\u001b[39m(ping\u001b[38;5;241m.\u001b[39m_passed_categorical \u001b[38;5;28;01mfor\u001b[39;00m ping \u001b[38;5;129;01min\u001b[39;00m grouper\u001b[38;5;241m.\u001b[39mgroupings):\n",
      "File \u001b[0;32m~/anaconda3/envs/CAUSINF/lib/python3.11/site-packages/pandas/core/groupby/grouper.py:1071\u001b[0m, in \u001b[0;36mget_grouper\u001b[0;34m(obj, key, axis, level, sort, observed, validate, dropna)\u001b[0m\n\u001b[1;32m   1068\u001b[0m     groupings\u001b[38;5;241m.\u001b[39mappend(ping)\n\u001b[1;32m   1070\u001b[0m \u001b[38;5;28;01mif\u001b[39;00m \u001b[38;5;28mlen\u001b[39m(groupings) \u001b[38;5;241m==\u001b[39m \u001b[38;5;241m0\u001b[39m \u001b[38;5;129;01mand\u001b[39;00m \u001b[38;5;28mlen\u001b[39m(obj):\n\u001b[0;32m-> 1071\u001b[0m     \u001b[38;5;28;01mraise\u001b[39;00m \u001b[38;5;167;01mValueError\u001b[39;00m(\u001b[38;5;124m\"\u001b[39m\u001b[38;5;124mNo group keys passed!\u001b[39m\u001b[38;5;124m\"\u001b[39m)\n\u001b[1;32m   1072\u001b[0m \u001b[38;5;28;01mif\u001b[39;00m \u001b[38;5;28mlen\u001b[39m(groupings) \u001b[38;5;241m==\u001b[39m \u001b[38;5;241m0\u001b[39m:\n\u001b[1;32m   1073\u001b[0m     groupings\u001b[38;5;241m.\u001b[39mappend(Grouping(Index([], dtype\u001b[38;5;241m=\u001b[39m\u001b[38;5;124m\"\u001b[39m\u001b[38;5;124mint\u001b[39m\u001b[38;5;124m\"\u001b[39m), np\u001b[38;5;241m.\u001b[39marray([], dtype\u001b[38;5;241m=\u001b[39mnp\u001b[38;5;241m.\u001b[39mintp)))\n",
      "\u001b[0;31mValueError\u001b[0m: No group keys passed!"
     ]
    }
   ],
   "source": [
    "refutation = model.refute_estimate(\n",
    "    estimand=estimand, \n",
    "    estimate=estimate,\n",
    "    method_name='random_common_cause')"
   ]
  },
  {
   "cell_type": "code",
   "execution_count": null,
   "id": "406078ac-3a70-47a2-a608-dd985223ef28",
   "metadata": {},
   "outputs": [],
   "source": [
    "print(refutation)"
   ]
  }
 ],
 "metadata": {
  "kernelspec": {
   "display_name": "Python 3 (ipykernel)",
   "language": "python",
   "name": "python3"
  },
  "language_info": {
   "codemirror_mode": {
    "name": "ipython",
    "version": 3
   },
   "file_extension": ".py",
   "mimetype": "text/x-python",
   "name": "python",
   "nbconvert_exporter": "python",
   "pygments_lexer": "ipython3",
   "version": "3.11.9"
  }
 },
 "nbformat": 4,
 "nbformat_minor": 5
}
