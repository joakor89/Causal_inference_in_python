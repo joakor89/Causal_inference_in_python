{
 "cells": [
  {
   "cell_type": "markdown",
   "id": "b5438ea5-00ee-490b-b278-5da679812cca",
   "metadata": {},
   "source": [
    "# Nodes, Edges & Statistical (In)dependence\n",
    "\n",
    "### Loading Libraries"
   ]
  },
  {
   "cell_type": "code",
   "execution_count": 1,
   "id": "7b3a9e9f-9c2b-4570-b418-5171612dcd71",
   "metadata": {},
   "outputs": [],
   "source": [
    "# Numerical Computing\n",
    "import numpy as np\n",
    "\n",
    "# Data Manipulation\n",
    "import pandas as pd\n",
    "\n",
    "# IterTools\n",
    "from itertools import combinations\n",
    "\n",
    "# Statistical Models\n",
    "from scipy import stats\n",
    "import statsmodels.api as sm\n",
    "\n",
    "# Networkx\n",
    "import networkx as nx\n",
    "\n",
    "# Data Visualization\n",
    "import graphviz\n",
    "import seaborn as sns\n",
    "import matplotlib.pyplot as plt"
   ]
  },
  {
   "cell_type": "code",
   "execution_count": null,
   "id": "94595565-03b8-4b82-b966-44e0a3ddc1c2",
   "metadata": {},
   "outputs": [],
   "source": []
  }
 ],
 "metadata": {
  "kernelspec": {
   "display_name": "Python 3 (ipykernel)",
   "language": "python",
   "name": "python3"
  },
  "language_info": {
   "codemirror_mode": {
    "name": "ipython",
    "version": 3
   },
   "file_extension": ".py",
   "mimetype": "text/x-python",
   "name": "python",
   "nbconvert_exporter": "python",
   "pygments_lexer": "ipython3",
   "version": "3.11.9"
  }
 },
 "nbformat": 4,
 "nbformat_minor": 5
}
