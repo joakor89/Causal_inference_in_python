{
 "cells": [
  {
   "cell_type": "markdown",
   "id": "a998e944-f6b5-4bd6-a9ef-b021e3713a44",
   "metadata": {},
   "source": [
    "# Regression, Observation & Interventions\n",
    "\n",
    "### Loading Libraries"
   ]
  },
  {
   "cell_type": "code",
   "execution_count": 6,
   "id": "dd2a2d79-25e5-4d47-b914-47ca91e81153",
   "metadata": {},
   "outputs": [],
   "source": [
    "# Numerical Computing\n",
    "import numpy as np\n",
    "\n",
    "# Data Manipulation\n",
    "import pandas as pd\n",
    "\n",
    "# IterTools\n",
    "from itertools import combinations\n",
    "\n",
    "# Statistical Models\n",
    "from scipy import stats\n",
    "import statsmodels.api as sm\n",
    "\n",
    "# Networkx\n",
    "import networkx as nx\n",
    "\n",
    "# Data Visualization\n",
    "import seaborn as sns\n",
    "import matplotlib.pyplot as plt"
   ]
  },
  {
   "cell_type": "markdown",
   "id": "0339e1d3-0363-4a52-b9e4-8e09752c897b",
   "metadata": {},
   "source": [
    "#### Setting Color & Viz Parameters"
   ]
  },
  {
   "cell_type": "code",
   "execution_count": 7,
   "id": "0a0e5b6f-2a9a-4f5c-a970-a65d33cced49",
   "metadata": {},
   "outputs": [],
   "source": [
    "COLORS = [\n",
    "    '#069AF3',\n",
    "    '#F97306'\n",
    "]"
   ]
  },
  {
   "cell_type": "code",
   "execution_count": 8,
   "id": "0cd6af0f-f41e-4cd8-8ed4-f7c04dc89069",
   "metadata": {},
   "outputs": [],
   "source": [
    "plt.style.use('fivethirtyeight')"
   ]
  },
  {
   "cell_type": "markdown",
   "id": "167d5378-95f1-4ace-aa51-12b2eff920b9",
   "metadata": {},
   "source": [
    "### Regression"
   ]
  },
  {
   "cell_type": "code",
   "execution_count": 9,
   "id": "5bb6e909-1704-44a6-a58c-47f24666363d",
   "metadata": {},
   "outputs": [
    {
     "name": "stdout",
     "output_type": "stream",
     "text": [
      "[[ 1.          0.11530002]\n",
      " [ 1.         -0.43617719]\n",
      " [ 1.         -0.54138887]\n",
      " [ 1.         -1.64773122]\n",
      " [ 1.         -0.32616934]]\n"
     ]
    }
   ],
   "source": [
    "# Set the seed for reproducibility\n",
    "np.random.seed(45)\n",
    "\n",
    "# No. of samples\n",
    "N_SAMPLES = 5000\n",
    "\n",
    "# Define true model parameters\n",
    "alpha = 1.12\n",
    "beta = 0.93\n",
    "epsilon = np.random.randn(N_SAMPLES)\n",
    "\n",
    "# Generate X\n",
    "X = np.random.randn(N_SAMPLES)\n",
    "\n",
    "# Compute Y\n",
    "y = alpha + beta * X + 0.5 * epsilon\n",
    "\n",
    "# Statsmodel models require us to add constant\n",
    "X = sm.add_constant(X)\n",
    "\n",
    "print(X[:5, :])"
   ]
  },
  {
   "cell_type": "code",
   "execution_count": null,
   "id": "899f9c38-4e0d-469b-a57a-ef836ac7480a",
   "metadata": {},
   "outputs": [],
   "source": []
  }
 ],
 "metadata": {
  "kernelspec": {
   "display_name": "Python 3 (ipykernel)",
   "language": "python",
   "name": "python3"
  },
  "language_info": {
   "codemirror_mode": {
    "name": "ipython",
    "version": 3
   },
   "file_extension": ".py",
   "mimetype": "text/x-python",
   "name": "python",
   "nbconvert_exporter": "python",
   "pygments_lexer": "ipython3",
   "version": "3.11.9"
  }
 },
 "nbformat": 4,
 "nbformat_minor": 5
}
